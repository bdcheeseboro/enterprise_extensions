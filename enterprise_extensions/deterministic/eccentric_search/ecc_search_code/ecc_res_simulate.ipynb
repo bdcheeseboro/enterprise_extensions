{
 "cells": [
  {
   "cell_type": "markdown",
   "metadata": {},
   "source": [
    "## Signal Simulation using ecc_res"
   ]
  },
  {
   "cell_type": "markdown",
   "metadata": {},
   "source": [
    "#### This notebook is based on the `ecc_res_libstempo.ipynb` by Lankeswar Dey, lanky441@gmail.com. Current version 06/17/2020"
   ]
  },
  {
   "cell_type": "markdown",
   "metadata": {},
   "source": [
    "This notebook creates a simulated eccentric gravitational wave dataset using `ecc_res` and `libstempo`"
   ]
  },
  {
   "cell_type": "code",
   "execution_count": 1,
   "metadata": {},
   "outputs": [],
   "source": [
    "%matplotlib inline\n",
    "%config InlineBackend.figure_format = 'retina'"
   ]
  },
  {
   "cell_type": "code",
   "execution_count": 2,
   "metadata": {},
   "outputs": [
    {
     "name": "stdout",
     "output_type": "stream",
     "text": [
      "Cannot import PINT? Meh...\n"
     ]
    }
   ],
   "source": [
    "from __future__ import print_function\n",
    "import sys\n",
    "import glob\n",
    "import os\n",
    "import errno\n",
    "import numpy as np\n",
    "import libstempo as T\n",
    "import libstempo.plot as LP, libstempo.toasim as LT\n",
    "import ephem\n",
    "import ecc_res\n",
    "import json\n",
    "import scipy.constants as sc"
   ]
  },
  {
   "cell_type": "code",
   "execution_count": 3,
   "metadata": {},
   "outputs": [
    {
     "data": {
      "text/plain": [
       "'2.3.5'"
      ]
     },
     "execution_count": 3,
     "metadata": {},
     "output_type": "execute_result"
    }
   ],
   "source": [
    "T.__version__"
   ]
  },
  {
   "cell_type": "code",
   "execution_count": 4,
   "metadata": {},
   "outputs": [
    {
     "data": {
      "text/plain": [
       "StrictVersion ('2020.7.1')"
      ]
     },
     "execution_count": 4,
     "metadata": {},
     "output_type": "execute_result"
    }
   ],
   "source": [
    "T.libstempo.tempo2version()"
   ]
  },
  {
   "cell_type": "code",
   "execution_count": 5,
   "metadata": {},
   "outputs": [],
   "source": [
    "def get_h0(logmc, log_fgw, logdL):\n",
    "    Msun = 2e30 #mass of sun in kg\n",
    "    Mc = 10**logmc*Msun #chirp mass in kg\n",
    "    fgw = 10**log_fgw #gravitational frequency in Hz\n",
    "    dL = 10**logdL*3.086e+16 #luminosity distance in meters\n",
    "    c = sc.speed_of_light\n",
    "    G = 6.67430e-11 #N⋅m2/kg2\n",
    "    h0 =  (2*(G*Mc/c**3)**(5/3)*(np.pi*fgw)**(2/3)*c)/dL\n",
    "    return h0"
   ]
  },
  {
   "cell_type": "code",
   "execution_count": 6,
   "metadata": {},
   "outputs": [],
   "source": [
    "def get_noise_from_pal2(noisefile):\n",
    "    psrname = noisefile.split('/')[-1].split('_noise.txt')[0]\n",
    "    fin = open(noisefile, 'r')\n",
    "    lines = fin.readlines()\n",
    "    params = {}\n",
    "    for line in lines:\n",
    "        ln = line.split()\n",
    "        if 'efac' in line:\n",
    "            par = 'efac'\n",
    "            flag = ln[0].split('efac-')[-1]\n",
    "        elif 'equad' in line:\n",
    "            par = 'log10_equad'\n",
    "            flag = ln[0].split('equad-')[-1]\n",
    "        elif 'jitter_q' in line:\n",
    "            par = 'log10_ecorr'\n",
    "            flag = ln[0].split('jitter_q-')[-1]\n",
    "        elif 'RN-Amplitude' in line:\n",
    "            par = 'red_noise_log10_A'\n",
    "            flag = ''\n",
    "        elif 'RN-spectral-index' in line:\n",
    "            par = 'red_noise_gamma'\n",
    "            flag = ''\n",
    "        else:\n",
    "            break\n",
    "        if flag:\n",
    "            name = [psrname, flag, par]\n",
    "        else:\n",
    "            name = [psrname, par]\n",
    "        pname = '_'.join(name)\n",
    "        params.update({pname: float(ln[1])})\n",
    "    return params"
   ]
  },
  {
   "cell_type": "code",
   "execution_count": 7,
   "metadata": {},
   "outputs": [],
   "source": [
    "#Specify the data directory path that contains the parfiles and timfiles\n",
    "datadir = '/home/bcheeseboro/nanograv_proj/enterprise_proj/ecc_signal_create/small_pta'\n",
    "noisepath = datadir+'_noise'"
   ]
  },
  {
   "cell_type": "code",
   "execution_count": 8,
   "metadata": {},
   "outputs": [],
   "source": [
    "#Grab all parfiles and timfiles\n",
    "parfiles = sorted(glob.glob(datadir + '/*.par'))\n",
    "timfiles = sorted(glob.glob(datadir + '/*.tim'))\n",
    "noisefiles = sorted(glob.glob(noisepath+'/*.txt'))"
   ]
  },
  {
   "cell_type": "code",
   "execution_count": 9,
   "metadata": {},
   "outputs": [],
   "source": [
    "psrlist = ['B1855+09',\n",
    "           'J0030+0451',\n",
    "           'J0613-0200',\n",
    "           'J1012+5307',\n",
    "           'J1024-0719',\n",
    "           'J1455-3330',\n",
    "           'J1600-3053',\n",
    "           'J1640+2224',\n",
    "           'J1744-1134',\n",
    "           'J1909-3744']"
   ]
  },
  {
   "cell_type": "code",
   "execution_count": 10,
   "metadata": {},
   "outputs": [],
   "source": [
    "#Creates a list of tempo pulsar objects\n",
    "psrs = []\n",
    "for par, tim in zip(parfiles, timfiles): #specified 10 for now but this can be changed later\n",
    "    psr = T.tempopulsar(parfile = par, timfile = tim)\n",
    "    psrs.append(psr)\n",
    "    \n"
   ]
  },
  {
   "cell_type": "code",
   "execution_count": 11,
   "metadata": {},
   "outputs": [],
   "source": [
    "noise_params = {}\n",
    "for nf in noisefiles:\n",
    "    noise_params.update(get_noise_from_pal2(nf))"
   ]
  },
  {
   "cell_type": "code",
   "execution_count": 12,
   "metadata": {},
   "outputs": [],
   "source": [
    "with open('pulsar_distances.json', 'r') as pdist_file:\n",
    "    pdist_dict = json.load(pdist_file)"
   ]
  },
  {
   "cell_type": "code",
   "execution_count": 13,
   "metadata": {},
   "outputs": [],
   "source": [
    "pdists = []\n",
    "for psr in psrlist:\n",
    "    if psr in pdist_dict.keys():\n",
    "         pdists.append(pdist_dict[psr][0])"
   ]
  },
  {
   "cell_type": "code",
   "execution_count": 14,
   "metadata": {},
   "outputs": [],
   "source": [
    "#Now parse this large dictionary so that we can call noise parameters as noise_dict[pulsar name][noise type]\n",
    "#Returns either floats or 2 column arrays of flags and values.\n",
    "#Only pulling efac values for right now.\n",
    "noise_dict = {}\n",
    "for psr in psrs:\n",
    "    noise_dict[psr.name]={}\n",
    "    noise_dict[psr.name]['efacs'] = []\n",
    "    for ky in list(noise_params.keys()):\n",
    "        if psr.name in ky:\n",
    "            if 'efac' in ky:\n",
    "                noise_dict[psr.name]['efacs'].append([ky.replace(psr.name + '_' , ''), noise_params[ky]])\n",
    "    noise_dict[psr.name]['efacs'] = np.array(noise_dict[psr.name]['efacs'])  "
   ]
  },
  {
   "cell_type": "code",
   "execution_count": 15,
   "metadata": {},
   "outputs": [
    {
     "name": "stdout",
     "output_type": "stream",
     "text": [
      "4.963744777775107 1.401125302119396\n",
      "0.13289428609377968 1.4859553086301012\n",
      "1.630717539277309 1.605931721194001\n",
      "2.672785659928814 0.6437244598047221\n",
      "2.7255255788301755 1.6985911792887745\n",
      "3.9086626067593975 2.1557066324933785\n",
      "4.192564649967244 2.1100518127977534\n",
      "4.3645408902627345 1.1797999580075138\n",
      "4.644714459548831 1.7729381503009418\n",
      "5.016907736998348 2.229437960711138\n"
     ]
    }
   ],
   "source": [
    "for psr in psrs:\n",
    "    fac = 180./np.pi\n",
    "    coords = ephem.Equatorial(ephem.Ecliptic(str(psr['ELONG'].val*fac), \n",
    "                                                 str(psr['ELAT'].val*fac)))\n",
    "    ptheta = np.pi/2 - float(repr(coords.dec))\n",
    "    pphi = float(repr(coords.ra))\n",
    "    print(pphi, ptheta)"
   ]
  },
  {
   "cell_type": "code",
   "execution_count": 16,
   "metadata": {},
   "outputs": [],
   "source": [
    "#signal injection parameters\n",
    "#gw postion\n",
    "gwphi = 5.02\n",
    "gwtheta = 2.51\n",
    "log10_dist = 6\n",
    "\n",
    "#orbital parameters\n",
    "q = 1\n",
    "log10_mc = 9.5\n",
    "log10_forb = -8.5\n",
    "e0 = 0.01\n",
    "l0 = 0\n",
    "gamma0 = 0\n",
    "inc = np.pi/3\n",
    "psi = 0"
   ]
  },
  {
   "cell_type": "code",
   "execution_count": 17,
   "metadata": {},
   "outputs": [
    {
     "data": {
      "text/plain": [
       "8.807325411814584e-13"
      ]
     },
     "execution_count": 17,
     "metadata": {},
     "output_type": "execute_result"
    }
   ],
   "source": [
    "get_h0(log10_mc, log10_forb, log10_dist)"
   ]
  },
  {
   "cell_type": "code",
   "execution_count": 18,
   "metadata": {},
   "outputs": [],
   "source": [
    "#Designate an output directory for the simulated data files\n",
    "outdir = '../ecc_sim_data/fixed_coords/correct_dist/efac_added/logmc_9.5/source3/'\n",
    "#outdir = '../ecc_sim_data/ideal_data/logmc_9/source7/'"
   ]
  },
  {
   "cell_type": "code",
   "execution_count": 19,
   "metadata": {},
   "outputs": [],
   "source": [
    "#creates the output directory if it does not already exist\n",
    "if not os.path.exists(os.path.dirname(outdir)):\n",
    "    try:\n",
    "        os.makedirs(os.path.dirname(outdir))\n",
    "    except OSError as exc: # Guard against race condition\n",
    "        if exc.errno != errno.EEXIST:\n",
    "            raise"
   ]
  },
  {
   "cell_type": "code",
   "execution_count": 20,
   "metadata": {},
   "outputs": [],
   "source": [
    "seed_efac = 1234"
   ]
  },
  {
   "cell_type": "code",
   "execution_count": 21,
   "metadata": {},
   "outputs": [],
   "source": [
    "pphase = np.random.uniform(0,(2*np.pi), 10)"
   ]
  },
  {
   "cell_type": "code",
   "execution_count": 22,
   "metadata": {},
   "outputs": [
    {
     "data": {
      "text/plain": [
       "array([3.21257564, 3.2106086 , 6.04927534, 0.9942232 , 1.857655  ,\n",
       "       4.83426435, 4.30361777, 1.36418233, 2.51834321, 3.20575121])"
      ]
     },
     "execution_count": 22,
     "metadata": {},
     "output_type": "execute_result"
    }
   ],
   "source": [
    "pphase"
   ]
  },
  {
   "cell_type": "code",
   "execution_count": 23,
   "metadata": {
    "collapsed": true,
    "jupyter": {
     "outputs_hidden": true
    }
   },
   "outputs": [
    {
     "name": "stdout",
     "output_type": "stream",
     "text": [
      "[6.61872289e-05 6.61872207e-05 6.61872125e-05 ... 6.61541741e-05\n",
      " 6.61541658e-05 6.61541576e-05]\n",
      "7.103190279799415e-05\n",
      "[7.10783465e-05 7.10783383e-05 7.10783300e-05 ... 7.10452916e-05\n",
      " 7.10452834e-05 7.10452752e-05]\n",
      "[6.61869315e-05 6.61869232e-05 6.61869150e-05 ... 6.61540819e-05\n",
      " 6.61540737e-05 6.61540654e-05]\n",
      "6.730400107533639e-05\n",
      "[6.73501473e-05 6.73501391e-05 6.73501308e-05 ... 6.73172978e-05\n",
      " 6.73172895e-05 6.73172813e-05]\n",
      "[6.61864874e-05 6.61864792e-05 6.61864709e-05 ... 6.61541533e-05\n",
      " 6.61541450e-05 6.61541368e-05]\n",
      "7.000184394107183e-05\n",
      "[7.00475461e-05 7.00475379e-05 7.00475296e-05 ... 7.00152120e-05\n",
      " 7.00152038e-05 7.00151955e-05]\n",
      "[6.61883909e-05 6.61883826e-05 6.61883744e-05 ... 6.61542578e-05\n",
      " 6.61542495e-05 6.61542413e-05]\n",
      "6.746766812132658e-05\n",
      "[6.75152738e-05 6.75152655e-05 6.75152573e-05 ... 6.74811407e-05\n",
      " 6.74811324e-05 6.74811242e-05]\n",
      "[6.61727403e-05 6.61727320e-05 6.61727238e-05 ... 6.61541531e-05\n",
      " 6.61541449e-05 6.61541367e-05]\n",
      "6.845952768554592e-05\n",
      "[6.84914827e-05 6.84914745e-05 6.84914663e-05 ... 6.84728956e-05\n",
      " 6.84728874e-05 6.84728791e-05]\n",
      "[6.61883956e-05 6.61883874e-05 6.61883792e-05 ... 6.61542236e-05\n",
      " 6.61542154e-05 6.61542072e-05]\n",
      "6.839144880506562e-05\n",
      "[6.84390592e-05 6.84390510e-05 6.84390427e-05 ... 6.84048872e-05\n",
      " 6.84048790e-05 6.84048708e-05]\n",
      "[6.61786509e-05 6.61786426e-05 6.61786344e-05 ... 6.61542235e-05\n",
      " 6.61542152e-05 6.61542070e-05]\n",
      "7.115161667112692e-05\n",
      "[7.11894823e-05 7.11894741e-05 7.11894658e-05 ... 7.11650549e-05\n",
      " 7.11650467e-05 7.11650384e-05]\n",
      "[6.61873449e-05 6.61873367e-05 6.61873284e-05 ... 6.61540764e-05\n",
      " 6.61540681e-05 6.61540599e-05]\n",
      "7.428694481544547e-05\n",
      "[7.43335045e-05 7.43334963e-05 7.43334880e-05 ... 7.43002360e-05\n",
      " 7.43002277e-05 7.43002195e-05]\n",
      "[6.61884029e-05 6.61883946e-05 6.61883864e-05 ... 6.61542227e-05\n",
      " 6.61542145e-05 6.61542063e-05]\n",
      "6.725639633617427e-05\n",
      "[6.73040140e-05 6.73040057e-05 6.73039975e-05 ... 6.72698339e-05\n",
      " 6.72698256e-05 6.72698174e-05]\n",
      "[6.61877781e-05 6.61877699e-05 6.61877616e-05 ... 6.61540830e-05\n",
      " 6.61540747e-05 6.61540665e-05]\n",
      "6.662399914276488e-05\n",
      "[6.66709920e-05 6.66709838e-05 6.66709756e-05 ... 6.66372969e-05\n",
      " 6.66372886e-05 6.66372804e-05]\n"
     ]
    }
   ],
   "source": [
    "for i, psr in enumerate(psrs):\n",
    "    #make the pulsar residuals flat\n",
    "    LT.make_ideal(psr)\n",
    "    \n",
    "    # add efacs\n",
    "    LT.add_efac(psr, efac = noise_dict[psr.name]['efacs'][:,1], \n",
    "                flagid = 'f', flags = noise_dict[psr.name]['efacs'][:,0], \n",
    "                seed = seed_efac + np.random.randint(len(psrs)))\n",
    "    \n",
    "    #convert pulsar sky location to proper frame\n",
    "    fac = 180./np.pi\n",
    "    coords = ephem.Equatorial(ephem.Ecliptic(str(psr['ELONG'].val*fac), \n",
    "                                                 str(psr['ELAT'].val*fac)))\n",
    "    ptheta = np.pi/2 - float(repr(coords.dec))\n",
    "    pphi = float(repr(coords.ra))\n",
    "    #Inject signal into set of pulsars\n",
    "    pdist = pdists[i] #distance of pulsar in kpc\n",
    "    toas = np.double(psr.toas())*86400 #toas\n",
    "\n",
    "    residuals = ecc_res.add_ecc_cgw(toas, ptheta, pphi, pdist, gwtheta, gwphi, log10_mc, q, log10_forb, e0, l0, gamma0, \n",
    "                    inc, psi, log10_dist, pphase = pphase[i], gamma_P = None, tref = 59000, \n",
    "                    psrterm = True, evol = True, waveform_cal = True, res = 'Both')\n",
    "    psr.stoas[:] += (residuals)/86400 #converting to days\n",
    "    psr.savepar(outdir + psr.name + '_simulate.par') #saves the simulated par file w/ ecc signal\n",
    "    psr.savetim(outdir + psr.name + '_simulate.tim') #saves the simulated tim file w/ ecc signal"
   ]
  },
  {
   "cell_type": "code",
   "execution_count": 26,
   "metadata": {},
   "outputs": [],
   "source": [
    "inj_params = {'gwphi': gwphi, 'gwtheta': gwtheta, 'log10_dist': log10_dist, 'q': q, 'log10_mc': log10_mc, 'log10_forb': log10_forb, 'e0': e0, 'l0': l0, 'gamma0': gamma0, 'inc': inc, 'psi': psi, 'pphase': pphase.tolist()}"
   ]
  },
  {
   "cell_type": "code",
   "execution_count": 27,
   "metadata": {},
   "outputs": [],
   "source": [
    "#save injection parameters as a dictionary\n",
    "ecc_dict_dump = json.dumps(inj_params)\n",
    "f = open(outdir+\"ecc_inj_params.json\",\"w\")\n",
    "f.write(ecc_dict_dump)\n",
    "f.close()"
   ]
  },
  {
   "cell_type": "code",
   "execution_count": 26,
   "metadata": {},
   "outputs": [
    {
     "data": {
      "image/png": "[encoded data removed]",
      "text/plain": [
       "<Figure size 432x288 with 1 Axes>"
      ]
     },
     "metadata": {
      "image/png": {
       "height": 277,
       "width": 400
      },
      "needs_background": "light"
     },
     "output_type": "display_data"
    }
   ],
   "source": [
    "LP.plotres(psrs[0])"
   ]
  },
  {
   "cell_type": "code",
   "execution_count": null,
   "metadata": {},
   "outputs": [],
   "source": []
  },
  {
   "cell_type": "code",
   "execution_count": null,
   "metadata": {},
   "outputs": [],
   "source": []
  }
 ],
 "metadata": {
  "kernelspec": {
   "display_name": "Python 3",
   "language": "python",
   "name": "python3"
  },
  "language_info": {
   "codemirror_mode": {
    "name": "ipython",
    "version": 3
   },
   "file_extension": ".py",
   "mimetype": "text/x-python",
   "name": "python",
   "nbconvert_exporter": "python",
   "pygments_lexer": "ipython3",
   "version": "3.8.5"
  }
 },
 "nbformat": 4,
 "nbformat_minor": 4
}
