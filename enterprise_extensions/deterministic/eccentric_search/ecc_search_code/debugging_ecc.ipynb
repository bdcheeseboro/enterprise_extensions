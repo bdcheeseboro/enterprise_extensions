{
 "cells": [
  {
   "cell_type": "code",
   "execution_count": 1,
   "metadata": {},
   "outputs": [],
   "source": [
    "import numpy as np\n",
    "from numpy import pi, sin, cos, sqrt\n",
    "import matplotlib.pyplot as plt\n",
    "from scipy.interpolate import interp1d\n",
    "from scipy.integrate import solve_ivp\n",
    "from scipy.special import hyp2f1\n",
    "\n",
    "import scipy.constants as sc\n",
    "import libstempo as T\n",
    "import libstempo.plot as LP, libstempo.toasim as LT\n",
    "import ecc_res"
   ]
  },
  {
   "cell_type": "code",
   "execution_count": 2,
   "metadata": {},
   "outputs": [],
   "source": [
    "def get_dedtau(tau, e):\n",
    "    dedtau = (1 - e*e)**(3./2)/(e**(29./19) * (121*e*e + 304)**(1181./2299))\n",
    "    return dedtau"
   ]
  },
  {
   "cell_type": "code",
   "execution_count": 3,
   "metadata": {},
   "outputs": [],
   "source": [
    "e0 = 2.5e-9\n",
    "tau0 = (e0 * 19**(145./242) /(2**(559./726) * 3**(19./48)))**(48./19)"
   ]
  },
  {
   "cell_type": "code",
   "execution_count": 4,
   "metadata": {},
   "outputs": [],
   "source": [
    "sol = solve_ivp(get_dedtau, (tau0, 500), [e0], dense_output = False, rtol = 1e-12, atol = 1e-15)"
   ]
  },
  {
   "cell_type": "code",
   "execution_count": 5,
   "metadata": {},
   "outputs": [],
   "source": [
    "es = sol.y\n",
    "taus = sol.t"
   ]
  },
  {
   "cell_type": "code",
   "execution_count": 6,
   "metadata": {
    "collapsed": true,
    "jupyter": {
     "outputs_hidden": true
    }
   },
   "outputs": [
    {
     "data": {
      "text/plain": [
       "array([1.38499607e-21, 2.19407913e-21, 2.96613597e-21, 4.11069876e-21,\n",
       "       5.62125118e-21, 7.66097474e-21, 1.03821196e-20, 1.40015036e-20,\n",
       "       1.87910083e-20, 2.51011203e-20, 3.33780170e-20, 4.41887657e-20,\n",
       "       5.82509128e-20, 7.64692293e-20, 9.99804451e-20, 1.30207788e-19,\n",
       "       1.68927192e-19, 2.18347461e-19, 2.81207044e-19, 3.60890537e-19,\n",
       "       4.61568565e-19, 5.88365275e-19, 7.47558393e-19, 9.46817572e-19,\n",
       "       1.19548768e-18, 1.50492468e-18, 1.88889302e-18, 2.36403461e-18,\n",
       "       2.95042124e-18, 3.67220375e-18, 4.55837343e-18, 5.64365315e-18,\n",
       "       6.96953832e-18, 8.58551051e-18, 1.05504497e-17, 1.29342746e-17,\n",
       "       1.58198446e-17, 1.93051612e-17, 2.35059111e-17, 2.85584001e-17,\n",
       "       3.46229321e-17, 4.18876928e-17, 5.05732097e-17, 6.09374628e-17,\n",
       "       7.32817343e-17, 8.79572936e-17, 1.05373026e-16, 1.26004124e-16,\n",
       "       1.50401983e-16, 1.79205442e-16, 2.13153542e-16, 2.53099991e-16,\n",
       "       3.00029535e-16, 3.55076469e-16, 4.19545544e-16, 4.94935539e-16,\n",
       "       5.82965832e-16, 6.85606283e-16, 8.05110840e-16, 9.44055259e-16,\n",
       "       1.10537941e-15, 1.29243471e-15, 1.50903712e-15, 1.75952653e-15,\n",
       "       2.04883297e-15, 2.38255058e-15, 2.76701999e-15, 3.20942014e-15,\n",
       "       3.71787037e-15, 4.30154401e-15, 4.97079440e-15, 5.73729489e-15,\n",
       "       6.61419387e-15, 7.61628668e-15, 8.76020578e-15, 1.00646311e-14,\n",
       "       1.15505223e-14, 1.32413756e-14, 1.51635069e-14, 1.73463636e-14,\n",
       "       1.98228684e-14, 2.26297981e-14, 2.58081994e-14, 2.94038465e-14,\n",
       "       3.34677436e-14, 3.80566765e-14, 4.32338171e-14, 4.90693868e-14,\n",
       "       5.56413825e-14, 6.30363715e-14, 7.13503611e-14, 8.06897494e-14,\n",
       "       9.11723637e-14, 1.02928594e-13, 1.16102633e-13, 1.30853821e-13,\n",
       "       1.47358121e-13, 1.65809718e-13, 1.86422766e-13, 2.09433282e-13,\n",
       "       2.35101214e-13, 2.63712681e-13, 2.95582408e-13, 3.31056377e-13,\n",
       "       3.70514690e-13, 4.14374690e-13, 4.63094328e-13, 5.17175825e-13,\n",
       "       5.77169631e-13, 6.43678710e-13, 7.17363177e-13, 7.98945316e-13,\n",
       "       8.89214998e-13, 9.89035539e-13, 1.09935003e-12, 1.22118815e-12,\n",
       "       1.35567355e-12, 1.50403179e-12, 1.66759892e-12, 1.84783068e-12,\n",
       "       2.04631247e-12, 2.26477006e-12, 2.50508110e-12, 2.76928752e-12,\n",
       "       3.05960889e-12, 3.37845672e-12, 3.72844990e-12, 4.11243123e-12,\n",
       "       4.53348524e-12, 4.99495723e-12, 5.50047374e-12, 6.05396459e-12,\n",
       "       6.65968637e-12, 7.32224774e-12, 8.04663650e-12, 8.83824858e-12,\n",
       "       9.70291910e-12, 1.06469557e-11, 1.16771739e-11, 1.28009356e-11,\n",
       "       1.40261895e-11, 1.53615148e-11, 1.68161676e-11, 1.84001310e-11,\n",
       "       2.01241682e-11, 2.19998791e-11, 2.40397611e-11, 2.62572742e-11,\n",
       "       2.86669096e-11, 3.12842639e-11, 3.41261175e-11, 3.72105188e-11,\n",
       "       4.05568738e-11, 4.41860409e-11, 4.81204331e-11, 5.23841263e-11,\n",
       "       5.70029745e-11, 6.20047329e-11, 6.74191888e-11, 7.32783003e-11,\n",
       "       7.96163455e-11, 8.64700797e-11, 9.38789032e-11, 1.01885040e-10,\n",
       "       1.10533728e-10, 1.19873419e-10, 1.29955997e-10, 1.40837003e-10,\n",
       "       1.52575878e-10, 1.65236220e-10, 1.78886060e-10, 1.93598151e-10,\n",
       "       2.09450274e-10, 2.26525569e-10, 2.44912884e-10, 2.64707136e-10,\n",
       "       2.86009712e-10, 3.08928881e-10, 3.33580229e-10, 3.60087139e-10,\n",
       "       3.88581274e-10, 4.19203112e-10, 4.52102498e-10, 4.87439238e-10,\n",
       "       5.25383726e-10, 5.66117605e-10, 6.09834473e-10, 6.56740629e-10,\n",
       "       7.07055863e-10, 7.61014288e-10, 8.18865240e-10, 8.80874198e-10,\n",
       "       9.47323796e-10, 1.01851487e-09, 1.09476755e-09, 1.17642250e-09,\n",
       "       1.26384209e-09, 1.35741179e-09, 1.45754152e-09, 1.56466715e-09,\n",
       "       1.67925206e-09, 1.80178882e-09, 1.93280093e-09, 2.07284465e-09,\n",
       "       2.22251103e-09, 2.38242792e-09, 2.55326222e-09, 2.73572213e-09,\n",
       "       2.93055969e-09, 3.13857336e-09, 3.36061073e-09, 3.59757145e-09,\n",
       "       3.85041029e-09, 4.12014042e-09, 4.40783681e-09, 4.71463986e-09,\n",
       "       5.04175923e-09, 5.39047794e-09, 5.76215659e-09, 6.15823795e-09,\n",
       "       6.58025166e-09, 7.02981941e-09, 7.50866015e-09, 8.01859577e-09,\n",
       "       8.56155726e-09, 9.13959059e-09, 9.75486382e-09, 1.04096738e-08,\n",
       "       1.11064539e-08, 1.18477815e-08, 1.26363866e-08, 1.34751604e-08,\n",
       "       1.43671645e-08, 1.53156409e-08, 1.63240222e-08, 1.73959425e-08,\n",
       "       1.85352486e-08, 1.97460127e-08, 2.10325449e-08, 2.23994069e-08,\n",
       "       2.38514260e-08, 2.53937108e-08, 2.70316665e-08, 2.87710123e-08,\n",
       "       3.06177984e-08, 3.25784261e-08, 3.46596663e-08, 3.68686810e-08,\n",
       "       3.92130455e-08, 4.17007720e-08, 4.43403330e-08, 4.71406885e-08,\n",
       "       5.01113135e-08, 5.32622264e-08, 5.66040192e-08, 6.01478909e-08,\n",
       "       6.39056811e-08, 6.78899061e-08, 7.21137956e-08, 7.65913355e-08,\n",
       "       8.13373067e-08, 8.63673339e-08, 9.16979285e-08, 9.73465420e-08,\n",
       "       1.03331615e-07, 1.09672636e-07, 1.16390197e-07, 1.23506059e-07,\n",
       "       1.31043213e-07, 1.39025949e-07, 1.47479933e-07, 1.56432280e-07,\n",
       "       1.65911633e-07, 1.75948253e-07, 1.86574106e-07, 1.97822960e-07,\n",
       "       2.09730481e-07, 2.22334343e-07, 2.35674343e-07, 2.49792504e-07,\n",
       "       2.64733218e-07, 2.80543367e-07, 2.97272456e-07, 3.14972775e-07,\n",
       "       3.33699538e-07, 3.53511058e-07, 3.74468901e-07, 3.96638090e-07,\n",
       "       4.20087273e-07, 4.44888948e-07, 4.71119653e-07, 4.98860198e-07,\n",
       "       5.28195923e-07, 5.59216905e-07, 5.92018257e-07, 6.26700400e-07,\n",
       "       6.63369345e-07, 7.02137007e-07, 7.43121536e-07, 7.86447663e-07,\n",
       "       8.32247046e-07, 8.80658687e-07, 9.31829302e-07, 9.85913757e-07,\n",
       "       1.04307554e-06, 1.10348723e-06, 1.16733096e-06, 1.23479900e-06,\n",
       "       1.30609426e-06, 1.38143095e-06, 1.46103515e-06, 1.54514546e-06,\n",
       "       1.63401370e-06, 1.72790568e-06, 1.82710191e-06, 1.93189850e-06,\n",
       "       2.04260786e-06, 2.15955981e-06, 2.28310232e-06, 2.41360270e-06,\n",
       "       2.55144855e-06, 2.69704893e-06, 2.85083551e-06, 3.01326381e-06,\n",
       "       3.18481466e-06, 3.36599531e-06, 3.55734115e-06, 3.75941711e-06,\n",
       "       3.97281939e-06, 4.19817706e-06, 4.43615400e-06, 4.68745068e-06,\n",
       "       4.95280644e-06, 5.23300121e-06, 5.52885805e-06, 5.84124561e-06,\n",
       "       6.17108033e-06, 6.51932929e-06, 6.88701291e-06, 7.27520800e-06,\n",
       "       7.68505064e-06, 8.11773975e-06, 8.57454042e-06, 9.05678723e-06,\n",
       "       9.56588883e-06, 1.01033312e-05, 1.06706826e-05, 1.12695975e-05,\n",
       "       1.19018219e-05, 1.25691978e-05, 1.32736692e-05, 1.40172870e-05,\n",
       "       1.48022154e-05, 1.56307377e-05, 1.65052636e-05, 1.74283353e-05,\n",
       "       1.84026356e-05, 1.94309949e-05, 2.05164003e-05, 2.16620033e-05,\n",
       "       2.28711290e-05, 2.41472867e-05, 2.54941793e-05, 2.69157134e-05,\n",
       "       2.84160116e-05, 2.99994250e-05, 3.16705431e-05, 3.34342111e-05,\n",
       "       3.52955394e-05, 3.72599230e-05, 3.93330536e-05, 4.15209373e-05,\n",
       "       4.38299142e-05, 4.62666718e-05, 4.88382705e-05, 5.15521595e-05,\n",
       "       5.44162007e-05, 5.74386913e-05, 6.06283877e-05, 6.39945319e-05,\n",
       "       6.75468767e-05, 7.12957171e-05, 7.52519195e-05, 7.94269494e-05,\n",
       "       8.38329138e-05, 8.84825880e-05, 9.33894585e-05, 9.85677616e-05,\n",
       "       1.04032526e-04, 1.09799617e-04, 1.15885780e-04, 1.22308696e-04,\n",
       "       1.29087031e-04, 1.36240495e-04, 1.43789895e-04, 1.51757201e-04,\n",
       "       1.60165616e-04, 1.69039633e-04, 1.78405126e-04, 1.88289416e-04,\n",
       "       1.98721354e-04, 2.09731420e-04, 2.21351800e-04, 2.33616496e-04,\n",
       "       2.46561429e-04, 2.60224540e-04, 2.74645924e-04, 2.89867934e-04,\n",
       "       3.05935329e-04, 3.22895411e-04, 3.40798163e-04, 3.59696422e-04,\n",
       "       3.79646021e-04, 4.00706010e-04, 4.22938792e-04, 4.46410367e-04,\n",
       "       4.71190509e-04, 4.97353028e-04, 5.24975968e-04, 5.54141924e-04,\n",
       "       5.84938238e-04, 6.17457371e-04, 6.51797133e-04, 6.88061075e-04,\n",
       "       7.26358808e-04, 7.66806396e-04, 8.09526721e-04, 8.54649977e-04,\n",
       "       9.02314049e-04, 9.52665074e-04, 1.00585791e-03, 1.06205674e-03,\n",
       "       1.12143561e-03, 1.18417917e-03, 1.25048325e-03, 1.32055572e-03,\n",
       "       1.39461719e-03, 1.47290189e-03, 1.55565869e-03, 1.64315190e-03,\n",
       "       1.73566260e-03, 1.83348956e-03, 1.93695064e-03, 2.04638412e-03,\n",
       "       2.16215015e-03, 2.28463243e-03, 2.41423973e-03, 2.55140818e-03,\n",
       "       2.69660290e-03, 2.85032051e-03, 3.01309166e-03, 3.18548343e-03,\n",
       "       3.36810265e-03, 3.56159892e-03, 3.76666837e-03, 3.98405748e-03,\n",
       "       4.21456777e-03, 4.45906029e-03, 4.71846153e-03, 4.99376900e-03,\n",
       "       5.28605873e-03, 5.59649208e-03, 5.92632498e-03, 6.27691778e-03,\n",
       "       6.64974553e-03, 7.04641166e-03, 7.46866118e-03, 7.91839839e-03,\n",
       "       8.39770534e-03, 8.90886396e-03, 9.45438201e-03, 1.00370235e-02,\n",
       "       1.06598435e-02, 1.13262315e-02, 1.20399599e-02, 1.28052464e-02,\n",
       "       1.36268245e-02, 1.45100340e-02, 1.54609273e-02, 1.64864055e-02,\n",
       "       1.75943816e-02, 1.87939926e-02, 2.00958563e-02, 2.15124178e-02,\n",
       "       2.30583515e-02, 2.47511784e-02, 2.66118164e-02, 2.86660490e-02,\n",
       "       3.09438386e-02, 3.34897243e-02, 3.63164652e-02, 3.89846520e-02,\n",
       "       4.14406999e-02, 4.37073922e-02, 4.59411229e-02, 4.82198860e-02,\n",
       "       5.05694492e-02, 5.29986739e-02, 5.55120512e-02, 5.81130356e-02,\n",
       "       6.08048353e-02, 6.35905954e-02, 6.64734494e-02, 6.94565384e-02,\n",
       "       7.25430269e-02, 7.57361104e-02, 7.90390234e-02, 8.24550428e-02,\n",
       "       8.59874959e-02, 8.96397609e-02, 9.34152714e-02, 9.73175185e-02,\n",
       "       1.01350054e-01, 1.05516492e-01, 1.09820510e-01, 1.14265851e-01,\n",
       "       1.18856325e-01, 1.23595811e-01, 1.28488257e-01, 1.33537680e-01,\n",
       "       1.38748173e-01, 1.44123899e-01, 1.49669094e-01, 1.55388073e-01,\n",
       "       1.61285223e-01, 1.67365009e-01, 1.73631975e-01, 1.80090741e-01,\n",
       "       1.86746008e-01, 1.93602556e-01, 2.00665246e-01, 2.07939021e-01,\n",
       "       2.15428906e-01, 2.23140009e-01, 2.31077522e-01, 2.39246721e-01,\n",
       "       2.47652968e-01, 2.56301707e-01, 2.65198471e-01, 2.74348884e-01,\n",
       "       2.83758650e-01, 2.93433567e-01, 3.03379518e-01, 3.13602478e-01,\n",
       "       3.24108511e-01, 3.34903773e-01, 3.45994507e-01, 3.57387051e-01,\n",
       "       3.69087834e-01, 3.81103381e-01, 3.93440305e-01, 4.06105317e-01,\n",
       "       4.19105220e-01, 4.32446913e-01, 4.46137391e-01, 4.60183740e-01,\n",
       "       4.74593149e-01, 4.89372900e-01, 5.04530374e-01, 5.20073050e-01,\n",
       "       5.36008503e-01, 5.52344409e-01, 5.69088544e-01, 5.86248781e-01,\n",
       "       6.03833095e-01, 6.21849564e-01, 6.40306362e-01, 6.59211769e-01,\n",
       "       6.78574168e-01, 6.98402040e-01, 7.18703975e-01, 7.39488663e-01,\n",
       "       7.60764898e-01, 7.82541585e-01, 8.04827726e-01, 8.27632438e-01,\n",
       "       8.50964936e-01, 8.74834551e-01, 8.99250710e-01, 9.24222961e-01,\n",
       "       9.49760951e-01, 9.75874444e-01, 1.00257331e+00, 1.02986754e+00,\n",
       "       1.05776721e+00, 1.08628255e+00, 1.11542386e+00, 1.14520158e+00,\n",
       "       1.17562627e+00, 1.20670857e+00, 1.23845928e+00, 1.27088930e+00,\n",
       "       1.30400963e+00, 1.33783142e+00, 1.37236590e+00, 1.40762447e+00,\n",
       "       1.44361862e+00, 1.48035997e+00, 1.51786026e+00, 1.55613136e+00,\n",
       "       1.59518527e+00, 1.63503411e+00, 1.67569012e+00, 1.71716568e+00,\n",
       "       1.75947332e+00, 1.80262566e+00, 1.84663549e+00, 1.89151572e+00,\n",
       "       1.93727938e+00, 1.98393968e+00, 2.03150993e+00, 2.08000360e+00,\n",
       "       2.12943429e+00, 2.17981576e+00, 2.23116190e+00, 2.28348676e+00,\n",
       "       2.33680454e+00, 2.39112956e+00, 2.44647634e+00, 2.50285952e+00,\n",
       "       2.56029391e+00, 2.61879449e+00, 2.67837636e+00, 2.73905484e+00,\n",
       "       2.80084536e+00, 2.86376356e+00, 2.92782523e+00, 2.99304632e+00,\n",
       "       3.05944300e+00, 3.12703155e+00, 3.19582849e+00, 3.26585050e+00,\n",
       "       3.33711442e+00, 3.40963731e+00, 3.48343641e+00, 3.55852916e+00,\n",
       "       3.63493318e+00, 3.71266630e+00, 3.79174655e+00, 3.87219217e+00,\n",
       "       3.95402159e+00, 4.03725347e+00, 4.12190669e+00, 4.20800033e+00,\n",
       "       4.29555370e+00, 4.38458635e+00, 4.47511804e+00, 4.56716876e+00,\n",
       "       4.66075875e+00, 4.75590849e+00, 4.85263871e+00, 4.95097038e+00,\n",
       "       5.05092472e+00, 5.15252322e+00, 5.25578762e+00, 5.36073994e+00,\n",
       "       5.46740246e+00, 5.57579775e+00, 5.68594864e+00, 5.79787825e+00,\n",
       "       5.91161002e+00, 6.02716764e+00, 6.14457516e+00, 6.26385688e+00,\n",
       "       6.38503744e+00, 6.50814179e+00, 6.63319523e+00, 6.76022333e+00,\n",
       "       6.88925207e+00, 7.02030772e+00, 7.15341693e+00, 7.28860665e+00,\n",
       "       7.42590428e+00, 7.56533750e+00, 7.70693442e+00, 7.85072350e+00,\n",
       "       7.99673362e+00, 8.14499404e+00, 8.29553444e+00, 8.44838487e+00,\n",
       "       8.60357585e+00, 8.76113830e+00, 8.92110357e+00, 9.08350348e+00,\n",
       "       9.24837029e+00, 9.41573671e+00, 9.58563593e+00, 9.75810163e+00,\n",
       "       9.93316798e+00, 1.01108696e+01, 1.02912417e+01, 1.04743200e+01,\n",
       "       1.06601407e+01, 1.08487405e+01, 1.10401567e+01, 1.12344272e+01,\n",
       "       1.14315905e+01, 1.16316856e+01, 1.18347521e+01, 1.20408303e+01,\n",
       "       1.22499609e+01, 1.24621856e+01, 1.26775463e+01, 1.28960860e+01,\n",
       "       1.31178480e+01, 1.33428766e+01, 1.35712165e+01, 1.38029134e+01,\n",
       "       1.40380135e+01, 1.42765639e+01, 1.45186125e+01, 1.47642077e+01,\n",
       "       1.50133989e+01, 1.52662365e+01, 1.55227713e+01, 1.57830552e+01,\n",
       "       1.60471410e+01, 1.63150822e+01, 1.65869334e+01, 1.68627500e+01,\n",
       "       1.71425883e+01, 1.74265057e+01, 1.77145605e+01, 1.80068120e+01,\n",
       "       1.83033204e+01, 1.86041472e+01, 1.89093549e+01, 1.92190069e+01,\n",
       "       1.95331679e+01, 1.98519036e+01, 2.01752811e+01, 2.05033685e+01,\n",
       "       2.08362351e+01, 2.11739516e+01, 2.15165898e+01, 2.18642230e+01,\n",
       "       2.22169255e+01, 2.25747733e+01, 2.29378437e+01, 2.33062153e+01,\n",
       "       2.36799684e+01, 2.40591844e+01, 2.44439466e+01, 2.48343397e+01,\n",
       "       2.52304500e+01, 2.56323654e+01, 2.60401755e+01, 2.64539717e+01,\n",
       "       2.68738469e+01, 2.72998961e+01, 2.77322159e+01, 2.81709048e+01,\n",
       "       2.86160633e+01, 2.90677939e+01, 2.95262010e+01, 2.99913911e+01,\n",
       "       3.04634727e+01, 3.09425567e+01, 3.14287560e+01, 3.19221858e+01,\n",
       "       3.24229637e+01, 3.29312095e+01, 3.34470458e+01, 3.39705972e+01,\n",
       "       3.45019912e+01, 3.50413579e+01, 3.55888298e+01, 3.61445425e+01,\n",
       "       3.67086342e+01, 3.72812460e+01, 3.78625221e+01, 3.84526096e+01,\n",
       "       3.90516587e+01, 3.96598229e+01, 4.02772589e+01, 4.09041267e+01,\n",
       "       4.15405898e+01, 4.21868154e+01, 4.28429739e+01, 4.35092399e+01,\n",
       "       4.41857914e+01, 4.48728106e+01, 4.55704836e+01, 4.62790005e+01,\n",
       "       4.69985559e+01, 4.77293485e+01, 4.84715815e+01, 4.92254629e+01,\n",
       "       4.99912050e+01, 5.07690253e+01, 5.15591460e+01, 5.23617946e+01,\n",
       "       5.31772035e+01, 5.40056109e+01, 5.48472602e+01, 5.57024007e+01,\n",
       "       5.65712873e+01, 5.74541810e+01, 5.83513491e+01, 5.92630648e+01,\n",
       "       6.01896085e+01, 6.11312666e+01, 6.20883329e+01, 6.30611078e+01,\n",
       "       6.40498994e+01, 6.50550232e+01, 6.60768023e+01, 6.71155679e+01,\n",
       "       6.81716590e+01, 6.92454235e+01, 7.03372176e+01, 7.14474066e+01,\n",
       "       7.25763650e+01, 7.37244763e+01, 7.48921343e+01, 7.60797427e+01,\n",
       "       7.72877152e+01, 7.85164765e+01, 7.97664619e+01, 8.10381185e+01,\n",
       "       8.23319047e+01, 8.36482907e+01, 8.49877595e+01, 8.63508069e+01,\n",
       "       8.77379415e+01, 8.91496854e+01, 9.05865751e+01, 9.20491615e+01,\n",
       "       9.35380102e+01, 9.50537022e+01, 9.65968346e+01, 9.81680208e+01,\n",
       "       9.97678908e+01, 1.01397093e+02, 1.03056292e+02, 1.04746174e+02,\n",
       "       1.06467442e+02, 1.08220819e+02, 1.10007051e+02, 1.11826901e+02,\n",
       "       1.13681159e+02, 1.15570635e+02, 1.17496161e+02, 1.19458597e+02,\n",
       "       1.21458826e+02, 1.23497756e+02, 1.25576326e+02, 1.27695498e+02,\n",
       "       1.29856266e+02, 1.32059653e+02, 1.34306713e+02, 1.36598533e+02,\n",
       "       1.38936231e+02, 1.41320962e+02, 1.43753915e+02, 1.46236317e+02,\n",
       "       1.48769433e+02, 1.51354567e+02, 1.53993066e+02, 1.56686318e+02,\n",
       "       1.59435757e+02, 1.62242863e+02, 1.65109163e+02, 1.68036233e+02,\n",
       "       1.71025703e+02, 1.74079256e+02, 1.77198628e+02, 1.80385617e+02,\n",
       "       1.83642078e+02, 1.86969931e+02, 1.90371159e+02, 1.93847814e+02,\n",
       "       1.97402018e+02, 2.01035967e+02, 2.04751932e+02, 2.08552264e+02,\n",
       "       2.12439398e+02, 2.16415853e+02, 2.20484240e+02, 2.24647261e+02,\n",
       "       2.28907718e+02, 2.33268513e+02, 2.37732656e+02, 2.42303265e+02,\n",
       "       2.46983577e+02, 2.51776946e+02, 2.56686854e+02, 2.61716913e+02,\n",
       "       2.66870876e+02, 2.72152635e+02, 2.77566233e+02, 2.83115873e+02,\n",
       "       2.88805919e+02, 2.94640906e+02, 3.00625554e+02, 3.06764765e+02,\n",
       "       3.13063642e+02, 3.19527492e+02, 3.26161839e+02, 3.32972435e+02,\n",
       "       3.39965268e+02, 3.47146576e+02, 3.54522860e+02, 3.62100893e+02,\n",
       "       3.69887739e+02, 3.77890762e+02, 3.86117647e+02, 3.94576415e+02,\n",
       "       4.03275436e+02, 4.12223449e+02, 4.21429588e+02, 4.30903391e+02,\n",
       "       4.40654835e+02, 4.50694343e+02, 4.61032827e+02, 4.71681699e+02,\n",
       "       4.82652909e+02, 4.93958965e+02, 5.00000000e+02])"
      ]
     },
     "execution_count": 6,
     "metadata": {},
     "output_type": "execute_result"
    }
   ],
   "source": [
    "taus"
   ]
  },
  {
   "cell_type": "code",
   "execution_count": 7,
   "metadata": {},
   "outputs": [],
   "source": [
    "es = np.reshape(sol.y,len(taus))"
   ]
  },
  {
   "cell_type": "code",
   "execution_count": 8,
   "metadata": {},
   "outputs": [],
   "source": [
    "tau_e = np.vstack((taus, es)).T"
   ]
  },
  {
   "cell_type": "code",
   "execution_count": 9,
   "metadata": {},
   "outputs": [],
   "source": [
    "fun_e_tau = interp1d(taus,es)"
   ]
  },
  {
   "cell_type": "code",
   "execution_count": 10,
   "metadata": {},
   "outputs": [],
   "source": [
    "fun_tau_e = interp1d(es, taus)"
   ]
  },
  {
   "cell_type": "code",
   "execution_count": 2,
   "metadata": {},
   "outputs": [],
   "source": [
    "#gw postion\n",
    "gwphi = 3.1\n",
    "gwtheta = -np.pi/3.5\n",
    "log10_dist = 6.0\n",
    "\n",
    "#orbital parameters\n",
    "q = 0.99999775 \n",
    "log10_mc = 7.82625455\n",
    "log10_fgw = -8.\n",
    "e0 = 1e-4\n",
    "l0 = 0\n",
    "gamma0 = 0\n",
    "inc = np.pi/3\n",
    "psi = 0"
   ]
  },
  {
   "cell_type": "code",
   "execution_count": 5,
   "metadata": {},
   "outputs": [],
   "source": [
    "parfile = '../../ecc_signal_create/ecc_sim_data/ideal_data/B1855+09_simulate.par'\n",
    "timfile = '../../ecc_signal_create/ecc_sim_data/ideal_data/B1855+09_simulate.tim'"
   ]
  },
  {
   "cell_type": "code",
   "execution_count": 6,
   "metadata": {},
   "outputs": [],
   "source": [
    "psr = T.tempopulsar(parfile = parfile,timfile = timfile)"
   ]
  },
  {
   "cell_type": "code",
   "execution_count": 7,
   "metadata": {},
   "outputs": [],
   "source": [
    "pdist = np.float64(1.0/(psr['PX'].val))/1000.0 #distance of pulsar in kpc\n",
    "phi = np.float64(psr['ELONG'].val) #grabs the ecliptic longitude from the par file\n",
    "theta = np.float64(psr['ELAT'].val) #grabs the ecliptic latitude from the par file\n",
    "toas = np.double(psr.toas()) #toas\n",
    "toas *= 86400"
   ]
  },
  {
   "cell_type": "code",
   "execution_count": 8,
   "metadata": {},
   "outputs": [
    {
     "name": "stdout",
     "output_type": "stream",
     "text": [
      "toas[0]: 4610193724.957526\n",
      "toa size: 5618\n",
      "<class 'numpy.ndarray'>\n",
      "enterprise is here 1\n",
      "enterprise is here 2\n",
      "enterprise is in waveform.calculate_sp_sx\n",
      "toas type: <class 'numpy.ndarray'>\n",
      "min toas: 4610193724.957526 max toas: 4957262976.168973\n",
      "toas size: 5618 toa_sample: 4017 mc: 67027735.93 q: 1.00 n0: 0.00 e0: 0.00 l0: 0.00 gamma0: 0.00 mc: 4752000000\n",
      "evolving orbit\n",
      "in evolve orbit\n",
      "got m, eta, e02\n",
      "got A and P\n",
      "in tau_from_e\n",
      "going to fun_tau_e\n",
      "got taus?\n",
      "got es and ns\n",
      "got alpha, lbar0, and lbars\n",
      "got beta, gbar0, gbar, and gamma1\n",
      "got gbar20, gbar2, and gamma2\n",
      "got ns, es, ls, gammas\n",
      "4017 4017 4017 4017\n",
      "calculating waveform\n",
      "in get_x_u_phi\n",
      "(4017,) (4017,)\n",
      "in mikkola_array.py in get_u\n",
      "made it through the if statment\n",
      "got sgn and l\n",
      "got ncycles\n",
      "got ncycles and l\n",
      "got alpha and alpha3\n",
      "got beta and beta2\n",
      "made it through the beta>0 if statment\n",
      "made it through the beta <= 0 if statment\n",
      "got s and s5\n",
      "got w and w3\n",
      "got E0 and u\n",
      "got esu and ecu\n",
      "got fu, f1u, f2u, f3u, and f4u\n",
      "got u1, u2, u3, u4, and xi\n",
      "got sol and sol[flag]\n",
      "got u\n",
      "exiting get_u\n",
      "got u and L\n",
      "got sin(u) and cos(u) \n",
      "got k\n",
      "got x, ephi\n",
      "in the if statement\n",
      "got v_u, and v_l\n",
      "exiting get_x_u_phi\n",
      "got xs, us, phis\n",
      "waveform interpolating\n",
      "leaving waveform.calculate_sp_sx\n",
      "enterprise is here 3\n",
      "Calculating Pulsar term\n",
      "Dp (sec): 1.68e+08 dt_P: 267255467.6620756\n",
      "toas_P size: 5618\n",
      "enterprise is here 4\n",
      "in evolve orbit\n",
      "got m, eta, e02\n",
      "got A and P\n",
      "in tau_from_e\n",
      "going to fun_tau_e\n",
      "got taus?\n",
      "entered if statment\n",
      "got es and ns\n",
      "got alpha, lbar0, and lbars\n",
      "got beta, gbar0, gbar, and gamma1\n",
      "got gbar20, gbar2, and gamma2\n",
      "enterprise is in waveform.calculate_sp_sx\n",
      "toas type: <class 'numpy.ndarray'>\n",
      "min toas: 4342938257.29545 max toas: 4690007508.506897\n",
      "toas size: 5618 toa_sample: 4017 mc: 67027735.93 q: 1.00 n0: 0.00 e0: 0.00 l0: -16.76 gamma0: -0.07 mc: 4484744532.337924\n",
      "evolving orbit\n",
      "in evolve orbit\n",
      "got m, eta, e02\n",
      "got A and P\n",
      "in tau_from_e\n",
      "going to fun_tau_e\n",
      "got taus?\n",
      "got es and ns\n",
      "got alpha, lbar0, and lbars\n",
      "got beta, gbar0, gbar, and gamma1\n",
      "got gbar20, gbar2, and gamma2\n",
      "got ns, es, ls, gammas\n",
      "4017 4017 4017 4017\n",
      "calculating waveform\n",
      "in get_x_u_phi\n",
      "(4017,) (4017,)\n",
      "in mikkola_array.py in get_u\n",
      "made it through the if statment\n",
      "got sgn and l\n",
      "got ncycles\n",
      "got ncycles and l\n",
      "got alpha and alpha3\n",
      "got beta and beta2\n",
      "made it through the beta>0 if statment\n",
      "made it through the beta <= 0 if statment\n",
      "got s and s5\n",
      "got w and w3\n",
      "got E0 and u\n",
      "got esu and ecu\n",
      "got fu, f1u, f2u, f3u, and f4u\n",
      "got u1, u2, u3, u4, and xi\n",
      "got sol and sol[flag]\n",
      "got u\n",
      "exiting get_u\n",
      "got u and L\n",
      "got sin(u) and cos(u) \n",
      "got k\n",
      "got x, ephi\n",
      "in the if statement\n",
      "got v_u, and v_l\n",
      "exiting get_x_u_phi\n",
      "got xs, us, phis\n",
      "waveform interpolating\n",
      "leaving waveform.calculate_sp_sx\n",
      "enterprise is here 6\n",
      "enterprise is leaving ecc_res\n"
     ]
    }
   ],
   "source": [
    "ewf = ecc_res.add_ecc_cgw(toas, theta, phi, pdist, gwtheta=gwtheta, gwphi=gwphi, log10_mc=log10_mc, q=q, log10_fgw=log10_fgw, e0=e0, l0=l0, gamma0=gamma0, \n",
    "                    inc=inc, psi=psi, log10_dist=log10_dist, l_P=None, gamma_P=None, tref=55000, \n",
    "                    psrterm=True, evol=True, waveform_cal=True, res='Both')"
   ]
  },
  {
   "cell_type": "code",
   "execution_count": 8,
   "metadata": {},
   "outputs": [
    {
     "data": {
      "text/plain": [
       "[<matplotlib.lines.Line2D at 0x7f519b9d1b38>]"
      ]
     },
     "execution_count": 8,
     "metadata": {},
     "output_type": "execute_result"
    },
    {
     "data": {
      "image/png": "[encoded data removed]",
      "text/plain": [
       "<Figure size 432x288 with 1 Axes>"
      ]
     },
     "metadata": {
      "needs_background": "light"
     },
     "output_type": "display_data"
    }
   ],
   "source": [
    "plt.plot(toas, ewf)"
   ]
  },
  {
   "cell_type": "code",
   "execution_count": 19,
   "metadata": {},
   "outputs": [],
   "source": [
    "mc = 10**log10_mc\n",
    "F0 = 10**log10_fgw\n",
    "n0 = 2 * np.pi * F0"
   ]
  },
  {
   "cell_type": "code",
   "execution_count": 20,
   "metadata": {},
   "outputs": [],
   "source": [
    "toas *= 86400\n",
    "ts = np.linspace(np.min(toas), np.max(toas), int((np.max(toas) - np.min(toas))/86400), endpoint=True)\n",
    "tref = 55000"
   ]
  },
  {
   "cell_type": "code",
   "execution_count": 21,
   "metadata": {},
   "outputs": [],
   "source": [
    "tau0 = fun_tau_e(e0)"
   ]
  },
  {
   "cell_type": "code",
   "execution_count": 22,
   "metadata": {},
   "outputs": [
    {
     "data": {
      "text/plain": [
       "array(7.24826696)"
      ]
     },
     "execution_count": 22,
     "metadata": {},
     "output_type": "execute_result"
    }
   ],
   "source": [
    "tau0"
   ]
  },
  {
   "cell_type": "code",
   "execution_count": 23,
   "metadata": {},
   "outputs": [],
   "source": [
    "GMsun = 1.327124400e20  # measured more precisely than Msun alone!\n",
    "c = sc.speed_of_light\n",
    "TSUN = GMsun / c**3\n",
    "parsec = sc.parsec\n",
    "KPC2S = parsec/c * 1e3"
   ]
  },
  {
   "cell_type": "code",
   "execution_count": 24,
   "metadata": {},
   "outputs": [],
   "source": [
    "m = (((1+q)**2)/q)**(3/5) * mc\n",
    "eta = q/(1+q)**2\n",
    "e02 = e0*e0\n",
    "\n",
    "A = (TSUN * mc)**(5./3)/5\n",
    "P = (A/3.)* n0**(8./3)*e0**(48./19)*(304 + 121*e02)**(3480./2299)/(1 - e02)**4\n",
    "\n",
    "\n",
    "taus = tau0 - P*(ts - tref)"
   ]
  },
  {
   "cell_type": "code",
   "execution_count": 25,
   "metadata": {},
   "outputs": [
    {
     "data": {
      "text/plain": [
       "array([7.22015267, 7.22015214, 7.22015161, ..., 7.21803717, 7.21803664,\n",
       "       7.21803611])"
      ]
     },
     "execution_count": 25,
     "metadata": {},
     "output_type": "execute_result"
    }
   ],
   "source": [
    "taus"
   ]
  },
  {
   "cell_type": "code",
   "execution_count": null,
   "metadata": {},
   "outputs": [],
   "source": []
  }
 ],
 "metadata": {
  "kernelspec": {
   "display_name": "Python 3",
   "language": "python",
   "name": "python3"
  },
  "language_info": {
   "codemirror_mode": {
    "name": "ipython",
    "version": 3
   },
   "file_extension": ".py",
   "mimetype": "text/x-python",
   "name": "python",
   "nbconvert_exporter": "python",
   "pygments_lexer": "ipython3",
   "version": "3.8.3"
  }
 },
 "nbformat": 4,
 "nbformat_minor": 4
}
