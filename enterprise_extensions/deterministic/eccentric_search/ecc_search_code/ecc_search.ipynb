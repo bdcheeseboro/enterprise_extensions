{
 "cells": [
  {
   "cell_type": "markdown",
   "metadata": {},
   "source": [
    "## Eccentric Residual Search"
   ]
  },
  {
   "cell_type": "markdown",
   "metadata": {},
   "source": [
    "This notebook tests on a simulated dataset containing an eccentric gw signal. Based on work done by Sarah Vigeland, Ph.D. from `cw_search_sample.ipynb`\n",
    "\n",
    "Updated: 05/08/2020"
   ]
  },
  {
   "cell_type": "code",
   "execution_count": 1,
   "metadata": {},
   "outputs": [
    {
     "name": "stdout",
     "output_type": "stream",
     "text": [
      "Cannot import PINT? Meh...\n"
     ]
    }
   ],
   "source": [
    "from __future__ import division\n",
    "import numpy as np\n",
    "import glob\n",
    "import os\n",
    "import pickle\n",
    "import json\n",
    "import matplotlib.pyplot as plt\n",
    "import corner\n",
    "import sys\n",
    "\n",
    "from enterprise.signals import parameter\n",
    "from enterprise.pulsar import Pulsar\n",
    "from enterprise.signals import selections\n",
    "from enterprise.signals import signal_base\n",
    "from enterprise.signals import white_signals\n",
    "from enterprise.signals import gp_signals\n",
    "from enterprise.signals import deterministic_signals\n",
    "import enterprise.constants as const\n",
    "from enterprise.signals import utils\n",
    "from enterprise_extensions.deterministic import CWSignal\n",
    "\n",
    "import libstempo as T\n",
    "import libstempo.plot as LP, libstempo.toasim as LT\n",
    "import ecc_res\n",
    "\n",
    "from PTMCMCSampler.PTMCMCSampler import PTSampler as ptmcmc\n",
    "\n",
    "import enterprise_cw_funcs as fns\n",
    "#np.set_printoptions(threshold=sys.maxsize)\n",
    "\n",
    "%load_ext autoreload\n",
    "%autoreload 2"
   ]
  },
  {
   "cell_type": "markdown",
   "metadata": {},
   "source": [
    "All the noise files must be loaded in using the following function `get_noise_from_pal2` because these noise files are all text files. If using other file types then this is function is not necessary."
   ]
  },
  {
   "cell_type": "code",
   "execution_count": 2,
   "metadata": {},
   "outputs": [],
   "source": [
    "def get_noise_from_pal2(noisefile):\n",
    "    psrname = noisefile.split('/')[-1].split('_noise.txt')[0]\n",
    "    fin = open(noisefile, 'r')\n",
    "    lines = fin.readlines()\n",
    "    params = {}\n",
    "    for line in lines:\n",
    "        ln = line.split()\n",
    "        if 'efac' in line:\n",
    "            par = 'efac'\n",
    "            flag = ln[0].split('efac-')[-1]\n",
    "        elif 'equad' in line:\n",
    "            par = 'log10_equad'\n",
    "            flag = ln[0].split('equad-')[-1]\n",
    "        elif 'jitter_q' in line:\n",
    "            par = 'log10_ecorr'\n",
    "            flag = ln[0].split('jitter_q-')[-1]\n",
    "        elif 'RN-Amplitude' in line:\n",
    "            par = 'red_noise_log10_A'\n",
    "            flag = ''\n",
    "        elif 'RN-spectral-index' in line:\n",
    "            par = 'red_noise_gamma'\n",
    "            flag = ''\n",
    "        else:\n",
    "            break\n",
    "        if flag:\n",
    "            name = [psrname, flag, par]\n",
    "        else:\n",
    "            name = [psrname, par]\n",
    "        pname = '_'.join(name)\n",
    "        params.update({pname: float(ln[1])})\n",
    "    return params"
   ]
  },
  {
   "cell_type": "code",
   "execution_count": 3,
   "metadata": {},
   "outputs": [],
   "source": [
    "#Simulated dataset directory path\n",
    "datadir = '/home/bcheeseboro/nanograv_proj/enterprise_proj/eccentric_residual/ecc_sim_data/testing_round'"
   ]
  },
  {
   "cell_type": "code",
   "execution_count": 4,
   "metadata": {},
   "outputs": [],
   "source": [
    "#load par and tim files for each of the pulsars\n",
    "parfiles = sorted(glob.glob(datadir+'/*.par'))\n",
    "timfiles = sorted(glob.glob(datadir+'/*.tim'))"
   ]
  },
  {
   "cell_type": "code",
   "execution_count": 5,
   "metadata": {},
   "outputs": [],
   "source": [
    "#Create the pulsar list\n",
    "psr_list = [x.split('/')[-1].split('_')[0] for x in parfiles]"
   ]
  },
  {
   "cell_type": "code",
   "execution_count": 6,
   "metadata": {},
   "outputs": [
    {
     "name": "stdout",
     "output_type": "stream",
     "text": [
      "Loading pulsar from parfile /home/bcheeseboro/nanograv_proj/enterprise_proj/eccentric_residual/ecc_sim_data/testing_round/B1855+09_simulate.par\n",
      "Loading pulsar from parfile /home/bcheeseboro/nanograv_proj/enterprise_proj/eccentric_residual/ecc_sim_data/testing_round/B1937+21_simulate.par\n",
      "Loading pulsar from parfile /home/bcheeseboro/nanograv_proj/enterprise_proj/eccentric_residual/ecc_sim_data/testing_round/B1953+29_simulate.par\n",
      "Loading pulsar from parfile /home/bcheeseboro/nanograv_proj/enterprise_proj/eccentric_residual/ecc_sim_data/testing_round/J0023+0923_simulate.par\n"
     ]
    },
    {
     "name": "stderr",
     "output_type": "stream",
     "text": [
      "WARNING: enterprise.pulsar: WARNING: Could not find pulsar distance for PSR J0023+0923. Setting value to 1 with 20% uncertainty.\n"
     ]
    },
    {
     "name": "stdout",
     "output_type": "stream",
     "text": [
      "Loading pulsar from parfile /home/bcheeseboro/nanograv_proj/enterprise_proj/eccentric_residual/ecc_sim_data/testing_round/J0030+0451_simulate.par\n",
      "Loading pulsar from parfile /home/bcheeseboro/nanograv_proj/enterprise_proj/eccentric_residual/ecc_sim_data/testing_round/J0340+4130_simulate.par\n"
     ]
    },
    {
     "name": "stderr",
     "output_type": "stream",
     "text": [
      "WARNING: enterprise.pulsar: WARNING: Could not find pulsar distance for PSR J0340+4130. Setting value to 1 with 20% uncertainty.\n"
     ]
    },
    {
     "name": "stdout",
     "output_type": "stream",
     "text": [
      "Loading pulsar from parfile /home/bcheeseboro/nanograv_proj/enterprise_proj/eccentric_residual/ecc_sim_data/testing_round/J0613-0200_simulate.par\n",
      "Loading pulsar from parfile /home/bcheeseboro/nanograv_proj/enterprise_proj/eccentric_residual/ecc_sim_data/testing_round/J0636+5128_simulate.par\n"
     ]
    },
    {
     "name": "stderr",
     "output_type": "stream",
     "text": [
      "WARNING: enterprise.pulsar: WARNING: Could not find pulsar distance for PSR J0636+5128. Setting value to 1 with 20% uncertainty.\n"
     ]
    },
    {
     "name": "stdout",
     "output_type": "stream",
     "text": [
      "Loading pulsar from parfile /home/bcheeseboro/nanograv_proj/enterprise_proj/eccentric_residual/ecc_sim_data/testing_round/J0645+5158_simulate.par\n"
     ]
    },
    {
     "name": "stderr",
     "output_type": "stream",
     "text": [
      "WARNING: enterprise.pulsar: WARNING: Could not find pulsar distance for PSR J0645+5158. Setting value to 1 with 20% uncertainty.\n"
     ]
    },
    {
     "name": "stdout",
     "output_type": "stream",
     "text": [
      "Loading pulsar from parfile /home/bcheeseboro/nanograv_proj/enterprise_proj/eccentric_residual/ecc_sim_data/testing_round/J0740+6620_simulate.par\n"
     ]
    },
    {
     "name": "stderr",
     "output_type": "stream",
     "text": [
      "WARNING: enterprise.pulsar: WARNING: Could not find pulsar distance for PSR J0740+6620. Setting value to 1 with 20% uncertainty.\n"
     ]
    }
   ],
   "source": [
    "#Load in pulsars as a list\n",
    "psrs = []\n",
    "for psr in psr_list:\n",
    "    for p, t in zip(parfiles, timfiles):\n",
    "        if psr in p:\n",
    "            print('Loading pulsar from parfile {0}'.format(p))\n",
    "            psrs.append(Pulsar(p, t))"
   ]
  },
  {
   "cell_type": "code",
   "execution_count": 7,
   "metadata": {},
   "outputs": [],
   "source": [
    "# white noise parameters\n",
    "efac = parameter.Constant()\n",
    "equad = parameter.Constant()\n",
    "ecorr = parameter.Constant()\n",
    "\n",
    "# there will be separate white noise parameters for each observing backend\n",
    "# since NANOGrav began taking data, there have been two generations of backends\n",
    "# (ASP and PUPPI at Arecibo, GASP and GUPPI at Green Bank)\n",
    "selection = selections.Selection(selections.by_backend)\n",
    "\n",
    "# white noise signals\n",
    "ef = white_signals.MeasurementNoise(efac=efac, selection=selection)\n",
    "eq = white_signals.EquadNoise(log10_equad=equad, selection=selection)\n",
    "ec = white_signals.EcorrKernelNoise(log10_ecorr=ecorr, selection=selection)"
   ]
  },
  {
   "cell_type": "code",
   "execution_count": 9,
   "metadata": {},
   "outputs": [],
   "source": [
    "#Eccentric gw parameters\n",
    "pdist = parameter.Normal(0,1) #puslar distance\n",
    "#gw parameter\n",
    "gwphi = parameter.Constant(3.1)('gwphi')\n",
    "gwtheta = parameter.Constant(-np.pi/3.5)('gwtheta')\n",
    "\n",
    "#orbital parameters\n",
    "q = parameter.Uniform(0,1)('q')\n",
    "log10_mc = parameter.LinearExp(7,10)('log10_mc')\n",
    "F0 = parameter.Constant(1/(2*365*86400))('F0')\n",
    "e0 = parameter.Uniform(0.0,0.9)('e0')\n",
    "l0 = parameter.Constant(0)('l0')\n",
    "gamma0 = parameter.Constant(0)('gamma0')\n",
    "inc = parameter.Constant(np.pi/3)('inc')\n",
    "psi = parameter.Constant(0)('psi')"
   ]
  },
  {
   "cell_type": "code",
   "execution_count": 10,
   "metadata": {},
   "outputs": [],
   "source": [
    "#Eccentric signal construction\n",
    "#To create a signal to be used by enterprise you must first create a residual \n",
    "#and use CWSignal to convert the residual as part of the enterprise Signal class\n",
    "ewf = ecc_res.add_ecc_cgw(gwphi=gwphi, gwtheta=gwtheta,\n",
    "\t\t\t\tmc=log10_mc, q=q, F0=F0, e0=e0, l0=l0, gamma0=gamma0, inc=inc, psi=psi, pdist=pdist, gwdist=1.0, l_P=None, \n",
    "\t\t\t\tgamma_P=None, tref=0, psrterm=True, evol=True,\n",
    "\t\t\t\twaveform_cal='Num', res ='Both')\n",
    "ew = CWSignal(ewf, ecc=True, psrTerm=True)\n"
   ]
  },
  {
   "cell_type": "code",
   "execution_count": 11,
   "metadata": {},
   "outputs": [],
   "source": [
    "# linearized timing model\n",
    "tm = gp_signals.TimingModel(use_svd=False)\n",
    "# full signal (no red noise added at this time)\n",
    "s = ef + eq + ec + tm + ew"
   ]
  },
  {
   "cell_type": "code",
   "execution_count": 13,
   "metadata": {
    "collapsed": true,
    "jupyter": {
     "outputs_hidden": true
    }
   },
   "outputs": [
    {
     "data": {
      "text/plain": [
       "{'B1855+09_430_PUPPI_efac': 1.11896,\n",
       " 'B1855+09_L-wide_PUPPI_efac': 1.38104,\n",
       " 'B1855+09_430_ASP_efac': 1.16587,\n",
       " 'B1855+09_L-wide_ASP_efac': 1.08538,\n",
       " 'B1855+09_430_ASP_log10_ecorr': -8.47348,\n",
       " 'B1855+09_430_PUPPI_log10_ecorr': -6.31096,\n",
       " 'B1855+09_L-wide_ASP_log10_ecorr': -6.09208,\n",
       " 'B1855+09_L-wide_PUPPI_log10_ecorr': -6.401,\n",
       " 'B1855+09_430_PUPPI_log10_equad': -6.17415,\n",
       " 'B1855+09_L-wide_PUPPI_log10_equad': -6.53715,\n",
       " 'B1855+09_430_ASP_log10_equad': -7.93502,\n",
       " 'B1855+09_L-wide_ASP_log10_equad': -6.51038,\n",
       " 'B1855+09_red_noise_log10_A': -13.8022,\n",
       " 'B1855+09_red_noise_gamma': 3.63368,\n",
       " 'B1937+21_S-wide_ASP_efac': 1.38306,\n",
       " 'B1937+21_L-wide_PUPPI_efac': 2.51222,\n",
       " 'B1937+21_L-wide_ASP_efac': 2.08151,\n",
       " 'B1937+21_Rcvr_800_GUPPI_efac': 4.56347,\n",
       " 'B1937+21_S-wide_PUPPI_efac': 4.42791,\n",
       " 'B1937+21_Rcvr1_2_GASP_efac': 1.2136,\n",
       " 'B1937+21_Rcvr_800_GASP_efac': 2.28379,\n",
       " 'B1937+21_Rcvr1_2_GUPPI_efac': 1.51615,\n",
       " 'B1937+21_L-wide_ASP_log10_ecorr': -6.73728,\n",
       " 'B1937+21_L-wide_PUPPI_log10_ecorr': -6.89479,\n",
       " 'B1937+21_Rcvr1_2_GASP_log10_ecorr': -7.01235,\n",
       " 'B1937+21_Rcvr1_2_GUPPI_log10_ecorr': -6.65414,\n",
       " 'B1937+21_Rcvr_800_GASP_log10_ecorr': -8.14156,\n",
       " 'B1937+21_Rcvr_800_GUPPI_log10_ecorr': -6.46527,\n",
       " 'B1937+21_S-wide_ASP_log10_ecorr': -6.59546,\n",
       " 'B1937+21_S-wide_PUPPI_log10_ecorr': -6.38911,\n",
       " 'B1937+21_S-wide_ASP_log10_equad': -6.64122,\n",
       " 'B1937+21_L-wide_PUPPI_log10_equad': -7.19534,\n",
       " 'B1937+21_L-wide_ASP_log10_equad': -6.78669,\n",
       " 'B1937+21_Rcvr_800_GUPPI_log10_equad': -6.63217,\n",
       " 'B1937+21_S-wide_PUPPI_log10_equad': -7.13645,\n",
       " 'B1937+21_Rcvr1_2_GASP_log10_equad': -7.10271,\n",
       " 'B1937+21_Rcvr_800_GASP_log10_equad': -6.68081,\n",
       " 'B1937+21_Rcvr1_2_GUPPI_log10_equad': -7.08589,\n",
       " 'B1937+21_red_noise_log10_A': -13.2382,\n",
       " 'B1937+21_red_noise_gamma': 2.42323,\n",
       " 'B1953+29_430_PUPPI_efac': 1.28938,\n",
       " 'B1953+29_430_ASP_efac': 1.03677,\n",
       " 'B1953+29_L-wide_PUPPI_efac': 1.1142,\n",
       " 'B1953+29_L-wide_ASP_efac': 1.35393,\n",
       " 'B1953+29_430_ASP_log10_ecorr': -4.76834,\n",
       " 'B1953+29_430_PUPPI_log10_ecorr': -4.99991,\n",
       " 'B1953+29_L-wide_ASP_log10_ecorr': -8.25831,\n",
       " 'B1953+29_L-wide_PUPPI_log10_ecorr': -7.78528,\n",
       " 'B1953+29_430_PUPPI_log10_equad': -5.89578,\n",
       " 'B1953+29_430_ASP_log10_equad': -5.7992,\n",
       " 'B1953+29_L-wide_PUPPI_log10_equad': -9.78624,\n",
       " 'B1953+29_L-wide_ASP_log10_equad': -7.94978,\n",
       " 'B1953+29_red_noise_log10_A': -19.5541,\n",
       " 'B1953+29_red_noise_gamma': 1.60064,\n",
       " 'J0023+0923_L-wide_PUPPI_efac': 1.16077,\n",
       " 'J0023+0923_L-wide_ASP_efac': 1.1688,\n",
       " 'J0023+0923_430_PUPPI_efac': 1.03915,\n",
       " 'J0023+0923_430_ASP_efac': 1.01804,\n",
       " 'J0023+0923_430_ASP_log10_ecorr': -6.72922,\n",
       " 'J0023+0923_430_PUPPI_log10_ecorr': -6.91778,\n",
       " 'J0023+0923_L-wide_ASP_log10_ecorr': -6.15634,\n",
       " 'J0023+0923_L-wide_PUPPI_log10_ecorr': -8.12444,\n",
       " 'J0023+0923_L-wide_PUPPI_log10_equad': -6.7117,\n",
       " 'J0023+0923_L-wide_ASP_log10_equad': -6.2592,\n",
       " 'J0023+0923_430_PUPPI_log10_equad': -6.90765,\n",
       " 'J0023+0923_430_ASP_log10_equad': -7.51103,\n",
       " 'J0023+0923_red_noise_log10_A': -13.2745,\n",
       " 'J0023+0923_red_noise_gamma': 0.0896233,\n",
       " 'J0030+0451_430_PUPPI_efac': 1.10265,\n",
       " 'J0030+0451_430_ASP_efac': 1.17865,\n",
       " 'J0030+0451_L-wide_PUPPI_efac': 1.11973,\n",
       " 'J0030+0451_L-wide_ASP_efac': 1.15368,\n",
       " 'J0030+0451_430_ASP_log10_ecorr': -8.08783,\n",
       " 'J0030+0451_430_PUPPI_log10_ecorr': -6.66579,\n",
       " 'J0030+0451_L-wide_ASP_log10_ecorr': -8.01369,\n",
       " 'J0030+0451_L-wide_PUPPI_log10_ecorr': -7.41273,\n",
       " 'J0030+0451_430_PUPPI_log10_equad': -6.47717,\n",
       " 'J0030+0451_430_ASP_log10_equad': -6.97404,\n",
       " 'J0030+0451_L-wide_PUPPI_log10_equad': -8.19585,\n",
       " 'J0030+0451_L-wide_ASP_log10_equad': -8.19036,\n",
       " 'J0030+0451_red_noise_log10_A': -13.9934,\n",
       " 'J0030+0451_red_noise_gamma': 3.88428,\n",
       " 'J0340+4130_Rcvr1_2_GUPPI_efac': 1.07493,\n",
       " 'J0340+4130_Rcvr_800_GUPPI_efac': 1.10487,\n",
       " 'J0340+4130_Rcvr1_2_GUPPI_log10_ecorr': -8.37248,\n",
       " 'J0340+4130_Rcvr_800_GUPPI_log10_ecorr': -7.31613,\n",
       " 'J0340+4130_Rcvr1_2_GUPPI_log10_equad': -9.9488,\n",
       " 'J0340+4130_Rcvr_800_GUPPI_log10_equad': -8.88195,\n",
       " 'J0340+4130_red_noise_log10_A': -16.613,\n",
       " 'J0340+4130_red_noise_gamma': 2.13266,\n",
       " 'J0613-0200_Rcvr1_2_GUPPI_efac': 1.07904,\n",
       " 'J0613-0200_Rcvr1_2_GASP_efac': 1.05557,\n",
       " 'J0613-0200_Rcvr_800_GASP_efac': 1.09774,\n",
       " 'J0613-0200_Rcvr_800_GUPPI_efac': 1.16631,\n",
       " 'J0613-0200_Rcvr1_2_GASP_log10_ecorr': -7.51086,\n",
       " 'J0613-0200_Rcvr1_2_GUPPI_log10_ecorr': -6.78343,\n",
       " 'J0613-0200_Rcvr_800_GASP_log10_ecorr': -8.01835,\n",
       " 'J0613-0200_Rcvr_800_GUPPI_log10_ecorr': -6.73192,\n",
       " 'J0613-0200_Rcvr1_2_GUPPI_log10_equad': -8.58687,\n",
       " 'J0613-0200_Rcvr1_2_GASP_log10_equad': -8.39827,\n",
       " 'J0613-0200_Rcvr_800_GASP_log10_equad': -9.1479,\n",
       " 'J0613-0200_Rcvr_800_GUPPI_log10_equad': -6.67602,\n",
       " 'J0613-0200_red_noise_log10_A': -13.1482,\n",
       " 'J0613-0200_red_noise_gamma': 1.14699,\n",
       " 'J0636+5128_Rcvr1_2_GUPPI_efac': 1.08207,\n",
       " 'J0636+5128_Rcvr_800_GUPPI_efac': 1.02616,\n",
       " 'J0636+5128_Rcvr1_2_GUPPI_log10_ecorr': -7.93917,\n",
       " 'J0636+5128_Rcvr_800_GUPPI_log10_ecorr': -6.79308,\n",
       " 'J0636+5128_Rcvr1_2_GUPPI_log10_equad': -9.54351,\n",
       " 'J0636+5128_Rcvr_800_GUPPI_log10_equad': -6.37227,\n",
       " 'J0636+5128_red_noise_log10_A': -12.5197,\n",
       " 'J0636+5128_red_noise_gamma': 3.13677,\n",
       " 'J0645+5158_Rcvr1_2_GUPPI_efac': 1.07607,\n",
       " 'J0645+5158_Rcvr_800_GUPPI_efac': 1.0104,\n",
       " 'J0645+5158_Rcvr1_2_GUPPI_log10_ecorr': -7.95971,\n",
       " 'J0645+5158_Rcvr_800_GUPPI_log10_ecorr': -7.11304,\n",
       " 'J0645+5158_Rcvr1_2_GUPPI_log10_equad': -9.96514,\n",
       " 'J0645+5158_Rcvr_800_GUPPI_log10_equad': -7.07038,\n",
       " 'J0645+5158_red_noise_log10_A': -19.8803,\n",
       " 'J0645+5158_red_noise_gamma': 0.73559,\n",
       " 'J0740+6620_Rcvr1_2_GUPPI_efac': 1.1001,\n",
       " 'J0740+6620_Rcvr_800_GUPPI_efac': 1.05578,\n",
       " 'J0740+6620_Rcvr1_2_GUPPI_log10_ecorr': -6.65567,\n",
       " 'J0740+6620_Rcvr_800_GUPPI_log10_ecorr': -5.997,\n",
       " 'J0740+6620_Rcvr1_2_GUPPI_log10_equad': -9.15277,\n",
       " 'J0740+6620_Rcvr_800_GUPPI_log10_equad': -9.12649,\n",
       " 'J0740+6620_red_noise_log10_A': -14.0743,\n",
       " 'J0740+6620_red_noise_gamma': 2.47431}"
      ]
     },
     "execution_count": 13,
     "metadata": {},
     "output_type": "execute_result"
    }
   ],
   "source": [
    "# load the white noise parameters from the noisefiles\n",
    "noisedir = '/home/bcheeseboro/nanograv_proj/enterprise_proj/pta_tutorial/noisefiles_new/'\n",
    "noisefiles = sorted(glob.glob(noisedir+'*_noise.txt'))\n",
    "noisefiles = [x for x in noisefiles if x.split('/')[-1].split('_')[0] in psr_list]\n",
    "\n",
    "setpars = {}\n",
    "for nfile in noisefiles:\n",
    "    setpars.update(get_noise_from_pal2(nfile))\n",
    "setpars"
   ]
  },
  {
   "cell_type": "code",
   "execution_count": 14,
   "metadata": {
    "collapsed": true,
    "jupyter": {
     "outputs_hidden": true
    }
   },
   "outputs": [
    {
     "name": "stderr",
     "output_type": "stream",
     "text": [
      "INFO: enterprise.signals.signal_base: Setting B1855+09_430_ASP_efac to 1.16587\n",
      "INFO: enterprise.signals.signal_base: Setting B1855+09_430_PUPPI_efac to 1.11896\n",
      "INFO: enterprise.signals.signal_base: Setting B1855+09_L-wide_ASP_efac to 1.08538\n",
      "INFO: enterprise.signals.signal_base: Setting B1855+09_L-wide_PUPPI_efac to 1.38104\n",
      "INFO: enterprise.signals.signal_base: Setting B1855+09_430_ASP_log10_equad to -7.93502\n",
      "INFO: enterprise.signals.signal_base: Setting B1855+09_430_PUPPI_log10_equad to -6.17415\n",
      "INFO: enterprise.signals.signal_base: Setting B1855+09_L-wide_ASP_log10_equad to -6.51038\n",
      "INFO: enterprise.signals.signal_base: Setting B1855+09_L-wide_PUPPI_log10_equad to -6.53715\n",
      "INFO: enterprise.signals.signal_base: Setting B1855+09_430_ASP_log10_ecorr to -8.47348\n",
      "INFO: enterprise.signals.signal_base: Setting B1855+09_430_PUPPI_log10_ecorr to -6.31096\n",
      "INFO: enterprise.signals.signal_base: Setting B1855+09_L-wide_ASP_log10_ecorr to -6.09208\n",
      "INFO: enterprise.signals.signal_base: Setting B1855+09_L-wide_PUPPI_log10_ecorr to -6.401\n",
      "INFO: enterprise.signals.signal_base: Setting B1937+21_L-wide_ASP_efac to 2.08151\n",
      "INFO: enterprise.signals.signal_base: Setting B1937+21_L-wide_PUPPI_efac to 2.51222\n",
      "INFO: enterprise.signals.signal_base: Setting B1937+21_Rcvr1_2_GASP_efac to 1.2136\n",
      "INFO: enterprise.signals.signal_base: Setting B1937+21_Rcvr1_2_GUPPI_efac to 1.51615\n",
      "INFO: enterprise.signals.signal_base: Setting B1937+21_Rcvr_800_GASP_efac to 2.28379\n",
      "INFO: enterprise.signals.signal_base: Setting B1937+21_Rcvr_800_GUPPI_efac to 4.56347\n",
      "INFO: enterprise.signals.signal_base: Setting B1937+21_S-wide_ASP_efac to 1.38306\n",
      "INFO: enterprise.signals.signal_base: Setting B1937+21_S-wide_PUPPI_efac to 4.42791\n",
      "INFO: enterprise.signals.signal_base: Setting B1937+21_L-wide_ASP_log10_equad to -6.78669\n",
      "INFO: enterprise.signals.signal_base: Setting B1937+21_L-wide_PUPPI_log10_equad to -7.19534\n",
      "INFO: enterprise.signals.signal_base: Setting B1937+21_Rcvr1_2_GASP_log10_equad to -7.10271\n",
      "INFO: enterprise.signals.signal_base: Setting B1937+21_Rcvr1_2_GUPPI_log10_equad to -7.08589\n",
      "INFO: enterprise.signals.signal_base: Setting B1937+21_Rcvr_800_GASP_log10_equad to -6.68081\n",
      "INFO: enterprise.signals.signal_base: Setting B1937+21_Rcvr_800_GUPPI_log10_equad to -6.63217\n",
      "INFO: enterprise.signals.signal_base: Setting B1937+21_S-wide_ASP_log10_equad to -6.64122\n",
      "INFO: enterprise.signals.signal_base: Setting B1937+21_S-wide_PUPPI_log10_equad to -7.13645\n",
      "INFO: enterprise.signals.signal_base: Setting B1937+21_L-wide_ASP_log10_ecorr to -6.73728\n",
      "INFO: enterprise.signals.signal_base: Setting B1937+21_L-wide_PUPPI_log10_ecorr to -6.89479\n",
      "INFO: enterprise.signals.signal_base: Setting B1937+21_Rcvr1_2_GASP_log10_ecorr to -7.01235\n",
      "INFO: enterprise.signals.signal_base: Setting B1937+21_Rcvr1_2_GUPPI_log10_ecorr to -6.65414\n",
      "INFO: enterprise.signals.signal_base: Setting B1937+21_Rcvr_800_GASP_log10_ecorr to -8.14156\n",
      "INFO: enterprise.signals.signal_base: Setting B1937+21_Rcvr_800_GUPPI_log10_ecorr to -6.46527\n",
      "INFO: enterprise.signals.signal_base: Setting B1937+21_S-wide_ASP_log10_ecorr to -6.59546\n",
      "INFO: enterprise.signals.signal_base: Setting B1937+21_S-wide_PUPPI_log10_ecorr to -6.38911\n",
      "INFO: enterprise.signals.signal_base: Setting B1953+29_430_ASP_efac to 1.03677\n",
      "INFO: enterprise.signals.signal_base: Setting B1953+29_430_PUPPI_efac to 1.28938\n",
      "INFO: enterprise.signals.signal_base: Setting B1953+29_L-wide_ASP_efac to 1.35393\n",
      "INFO: enterprise.signals.signal_base: Setting B1953+29_L-wide_PUPPI_efac to 1.1142\n",
      "INFO: enterprise.signals.signal_base: Setting B1953+29_430_ASP_log10_equad to -5.7992\n",
      "INFO: enterprise.signals.signal_base: Setting B1953+29_430_PUPPI_log10_equad to -5.89578\n",
      "INFO: enterprise.signals.signal_base: Setting B1953+29_L-wide_ASP_log10_equad to -7.94978\n",
      "INFO: enterprise.signals.signal_base: Setting B1953+29_L-wide_PUPPI_log10_equad to -9.78624\n",
      "INFO: enterprise.signals.signal_base: Setting B1953+29_430_ASP_log10_ecorr to -4.76834\n",
      "INFO: enterprise.signals.signal_base: Setting B1953+29_430_PUPPI_log10_ecorr to -4.99991\n",
      "INFO: enterprise.signals.signal_base: Setting B1953+29_L-wide_ASP_log10_ecorr to -8.25831\n",
      "INFO: enterprise.signals.signal_base: Setting B1953+29_L-wide_PUPPI_log10_ecorr to -7.78528\n",
      "INFO: enterprise.signals.signal_base: Setting J0023+0923_430_ASP_efac to 1.01804\n",
      "INFO: enterprise.signals.signal_base: Setting J0023+0923_430_PUPPI_efac to 1.03915\n",
      "INFO: enterprise.signals.signal_base: Setting J0023+0923_L-wide_ASP_efac to 1.1688\n",
      "INFO: enterprise.signals.signal_base: Setting J0023+0923_L-wide_PUPPI_efac to 1.16077\n",
      "INFO: enterprise.signals.signal_base: Setting J0023+0923_430_ASP_log10_equad to -7.51103\n",
      "INFO: enterprise.signals.signal_base: Setting J0023+0923_430_PUPPI_log10_equad to -6.90765\n",
      "INFO: enterprise.signals.signal_base: Setting J0023+0923_L-wide_ASP_log10_equad to -6.2592\n",
      "INFO: enterprise.signals.signal_base: Setting J0023+0923_L-wide_PUPPI_log10_equad to -6.7117\n",
      "INFO: enterprise.signals.signal_base: Setting J0023+0923_430_ASP_log10_ecorr to -6.72922\n",
      "INFO: enterprise.signals.signal_base: Setting J0023+0923_430_PUPPI_log10_ecorr to -6.91778\n",
      "INFO: enterprise.signals.signal_base: Setting J0023+0923_L-wide_ASP_log10_ecorr to -6.15634\n",
      "INFO: enterprise.signals.signal_base: Setting J0023+0923_L-wide_PUPPI_log10_ecorr to -8.12444\n",
      "INFO: enterprise.signals.signal_base: Setting J0030+0451_430_ASP_efac to 1.17865\n",
      "INFO: enterprise.signals.signal_base: Setting J0030+0451_430_PUPPI_efac to 1.10265\n",
      "INFO: enterprise.signals.signal_base: Setting J0030+0451_L-wide_ASP_efac to 1.15368\n",
      "INFO: enterprise.signals.signal_base: Setting J0030+0451_L-wide_PUPPI_efac to 1.11973\n",
      "INFO: enterprise.signals.signal_base: Setting J0030+0451_430_ASP_log10_equad to -6.97404\n",
      "INFO: enterprise.signals.signal_base: Setting J0030+0451_430_PUPPI_log10_equad to -6.47717\n",
      "INFO: enterprise.signals.signal_base: Setting J0030+0451_L-wide_ASP_log10_equad to -8.19036\n",
      "INFO: enterprise.signals.signal_base: Setting J0030+0451_L-wide_PUPPI_log10_equad to -8.19585\n",
      "INFO: enterprise.signals.signal_base: Setting J0030+0451_430_ASP_log10_ecorr to -8.08783\n",
      "INFO: enterprise.signals.signal_base: Setting J0030+0451_430_PUPPI_log10_ecorr to -6.66579\n",
      "INFO: enterprise.signals.signal_base: Setting J0030+0451_L-wide_ASP_log10_ecorr to -8.01369\n",
      "INFO: enterprise.signals.signal_base: Setting J0030+0451_L-wide_PUPPI_log10_ecorr to -7.41273\n",
      "INFO: enterprise.signals.signal_base: Setting J0340+4130_Rcvr1_2_GUPPI_efac to 1.07493\n",
      "INFO: enterprise.signals.signal_base: Setting J0340+4130_Rcvr_800_GUPPI_efac to 1.10487\n",
      "INFO: enterprise.signals.signal_base: Setting J0340+4130_Rcvr1_2_GUPPI_log10_equad to -9.9488\n",
      "INFO: enterprise.signals.signal_base: Setting J0340+4130_Rcvr_800_GUPPI_log10_equad to -8.88195\n",
      "INFO: enterprise.signals.signal_base: Setting J0340+4130_Rcvr1_2_GUPPI_log10_ecorr to -8.37248\n",
      "INFO: enterprise.signals.signal_base: Setting J0340+4130_Rcvr_800_GUPPI_log10_ecorr to -7.31613\n",
      "INFO: enterprise.signals.signal_base: Setting J0613-0200_Rcvr1_2_GASP_efac to 1.05557\n",
      "INFO: enterprise.signals.signal_base: Setting J0613-0200_Rcvr1_2_GUPPI_efac to 1.07904\n",
      "INFO: enterprise.signals.signal_base: Setting J0613-0200_Rcvr_800_GASP_efac to 1.09774\n",
      "INFO: enterprise.signals.signal_base: Setting J0613-0200_Rcvr_800_GUPPI_efac to 1.16631\n",
      "INFO: enterprise.signals.signal_base: Setting J0613-0200_Rcvr1_2_GASP_log10_equad to -8.39827\n",
      "INFO: enterprise.signals.signal_base: Setting J0613-0200_Rcvr1_2_GUPPI_log10_equad to -8.58687\n",
      "INFO: enterprise.signals.signal_base: Setting J0613-0200_Rcvr_800_GASP_log10_equad to -9.1479\n",
      "INFO: enterprise.signals.signal_base: Setting J0613-0200_Rcvr_800_GUPPI_log10_equad to -6.67602\n",
      "INFO: enterprise.signals.signal_base: Setting J0613-0200_Rcvr1_2_GASP_log10_ecorr to -7.51086\n",
      "INFO: enterprise.signals.signal_base: Setting J0613-0200_Rcvr1_2_GUPPI_log10_ecorr to -6.78343\n",
      "INFO: enterprise.signals.signal_base: Setting J0613-0200_Rcvr_800_GASP_log10_ecorr to -8.01835\n",
      "INFO: enterprise.signals.signal_base: Setting J0613-0200_Rcvr_800_GUPPI_log10_ecorr to -6.73192\n",
      "INFO: enterprise.signals.signal_base: Setting J0636+5128_Rcvr1_2_GUPPI_efac to 1.08207\n",
      "INFO: enterprise.signals.signal_base: Setting J0636+5128_Rcvr_800_GUPPI_efac to 1.02616\n",
      "INFO: enterprise.signals.signal_base: Setting J0636+5128_Rcvr1_2_GUPPI_log10_equad to -9.54351\n",
      "INFO: enterprise.signals.signal_base: Setting J0636+5128_Rcvr_800_GUPPI_log10_equad to -6.37227\n",
      "INFO: enterprise.signals.signal_base: Setting J0636+5128_Rcvr1_2_GUPPI_log10_ecorr to -7.93917\n",
      "INFO: enterprise.signals.signal_base: Setting J0636+5128_Rcvr_800_GUPPI_log10_ecorr to -6.79308\n",
      "INFO: enterprise.signals.signal_base: Setting J0645+5158_Rcvr1_2_GUPPI_efac to 1.07607\n",
      "INFO: enterprise.signals.signal_base: Setting J0645+5158_Rcvr_800_GUPPI_efac to 1.0104\n",
      "INFO: enterprise.signals.signal_base: Setting J0645+5158_Rcvr1_2_GUPPI_log10_equad to -9.96514\n",
      "INFO: enterprise.signals.signal_base: Setting J0645+5158_Rcvr_800_GUPPI_log10_equad to -7.07038\n",
      "INFO: enterprise.signals.signal_base: Setting J0645+5158_Rcvr1_2_GUPPI_log10_ecorr to -7.95971\n",
      "INFO: enterprise.signals.signal_base: Setting J0645+5158_Rcvr_800_GUPPI_log10_ecorr to -7.11304\n",
      "INFO: enterprise.signals.signal_base: Setting J0740+6620_Rcvr1_2_GUPPI_efac to 1.1001\n",
      "INFO: enterprise.signals.signal_base: Setting J0740+6620_Rcvr_800_GUPPI_efac to 1.05578\n",
      "INFO: enterprise.signals.signal_base: Setting J0740+6620_Rcvr1_2_GUPPI_log10_equad to -9.15277\n",
      "INFO: enterprise.signals.signal_base: Setting J0740+6620_Rcvr_800_GUPPI_log10_equad to -9.12649\n",
      "INFO: enterprise.signals.signal_base: Setting J0740+6620_Rcvr1_2_GUPPI_log10_ecorr to -6.65567\n",
      "INFO: enterprise.signals.signal_base: Setting J0740+6620_Rcvr_800_GUPPI_log10_ecorr to -5.997\n"
     ]
    }
   ],
   "source": [
    "# initialize PTA\n",
    "model = [s(psr) for psr in psrs]\n",
    "pta = signal_base.PTA(model)\n",
    "\n",
    "# set fixed white noise parameters\n",
    "pta.set_default_params(setpars)"
   ]
  },
  {
   "cell_type": "code",
   "execution_count": 15,
   "metadata": {},
   "outputs": [
    {
     "name": "stdout",
     "output_type": "stream",
     "text": [
      "[-1.0193696   2.65793668  1.77826861  4.25716882  0.44949878  4.81102683\n",
      "  0.01083655  1.53016362  0.53220353  2.35841754 -0.69539408  5.71797668\n",
      "  1.8815636   0.32469714  0.91462761  0.07929691 -1.22592147  3.56225791\n",
      "  0.56030864  4.47163898  0.21106195  9.74444593  0.26592872]\n"
     ]
    }
   ],
   "source": [
    "#Create starting locations for walkers\n",
    "xecc = np.hstack(np.array([p.sample() for p in pta.params]))\n",
    "ndim = len(xecc)\n",
    "\n",
    "print(xecc)"
   ]
  },
  {
   "cell_type": "code",
   "execution_count": 16,
   "metadata": {},
   "outputs": [
    {
     "data": {
      "text/plain": [
       "-8119296.057545082"
      ]
     },
     "execution_count": 16,
     "metadata": {},
     "output_type": "execute_result"
    }
   ],
   "source": [
    "#testing to see if we get a likelihood value\n",
    "pta.get_lnlikelihood(xecc)"
   ]
  },
  {
   "cell_type": "code",
   "execution_count": 17,
   "metadata": {},
   "outputs": [],
   "source": [
    "# initialize pulsar distance parameters\n",
    "p_dist_params = [ p for p in pta.param_names if 'p_dist' in p ]\n",
    "for pd in p_dist_params:\n",
    "    xecc[pta.param_names.index(pd)] = 0"
   ]
  },
  {
   "cell_type": "code",
   "execution_count": 18,
   "metadata": {},
   "outputs": [],
   "source": [
    "# initial jump covariance matrix\n",
    "cov = np.diag(np.ones(ndim) * 0.01**2)"
   ]
  },
  {
   "cell_type": "code",
   "execution_count": 19,
   "metadata": {},
   "outputs": [],
   "source": [
    "snames = np.unique([[qq.signal_name for qq in pp._signals] \n",
    "                        for pp in pta._signalcollections])"
   ]
  },
  {
   "cell_type": "code",
   "execution_count": 20,
   "metadata": {},
   "outputs": [],
   "source": [
    "groups = fns.get_parameter_groups(pta)"
   ]
  },
  {
   "cell_type": "code",
   "execution_count": 21,
   "metadata": {},
   "outputs": [
    {
     "data": {
      "text/plain": [
       "[range(0, 23), [20, 21, 22], [], []]"
      ]
     },
     "execution_count": 21,
     "metadata": {},
     "output_type": "execute_result"
    }
   ],
   "source": [
    "groups"
   ]
  },
  {
   "cell_type": "code",
   "execution_count": 22,
   "metadata": {},
   "outputs": [],
   "source": [
    "groups = groups[:-2]"
   ]
  },
  {
   "cell_type": "code",
   "execution_count": 23,
   "metadata": {},
   "outputs": [],
   "source": [
    "chaindir = '/home/bcheeseboro/nanograv_proj/enterprise_proj/pta_tutorial/ecc_chains/test/run3/'\n",
    "resume = False\n",
    "sampler = ptmcmc(ndim, pta.get_lnlikelihood, pta.get_lnprior, cov, groups=groups, \n",
    "                 outDir=chaindir, resume=resume)\n",
    "\n",
    "# write parameter file and parameter groups file\n",
    "np.savetxt(chaindir + 'params.txt', list(map(str, pta.param_names)), fmt='%s')\n",
    "np.savetxt(chaindir + 'groups.txt', groups, fmt='%s')"
   ]
  },
  {
   "cell_type": "code",
   "execution_count": 24,
   "metadata": {},
   "outputs": [],
   "source": [
    "# add prior draws to proposal cycle\n",
    "inc_psr_term = True\n",
    "if inc_psr_term:\n",
    "    psr_dist = {}\n",
    "    for psr in psrs:\n",
    "        psr_dist[psr.name] = psr.pdist\n",
    "else:\n",
    "    psr_dist = None\n",
    "    \n",
    "jp = fns.JumpProposal(pta, fgw=F0, psr_dist=psr_dist, \n",
    "                      rnposteriors=None, \n",
    "                      juporbposteriors=None)"
   ]
  },
  {
   "cell_type": "code",
   "execution_count": 25,
   "metadata": {},
   "outputs": [],
   "source": [
    "sampler.addProposalToCycle(jp.draw_from_cw_prior, 20)\n",
    "sampler.addAuxilaryJump(jp.fix_cyclic_pars)"
   ]
  },
  {
   "cell_type": "code",
   "execution_count": 26,
   "metadata": {},
   "outputs": [],
   "source": [
    "filename = chaindir + '/params.txt'\n",
    "np.savetxt(filename,list(map(str, pta.param_names)), fmt='%s')\n",
    "np.savetxt(chaindir + 'groups.txt', groups, fmt='%s')"
   ]
  },
  {
   "cell_type": "code",
   "execution_count": 27,
   "metadata": {},
   "outputs": [],
   "source": [
    "N = int(1.5e6)"
   ]
  },
  {
   "cell_type": "code",
   "execution_count": 28,
   "metadata": {},
   "outputs": [
    {
     "name": "stderr",
     "output_type": "stream",
     "text": [
      "/home/bcheeseboro/anaconda3/envs/enterprise/lib/python3.6/site-packages/enterprise/signals/parameter.py:64: RuntimeWarning: divide by zero encountered in log\n",
      "  logpdf = np.log(self.prior(value, **kwargs))\n"
     ]
    },
    {
     "name": "stdout",
     "output_type": "stream",
     "text": [
      "Finished 0.67 percent in 1094.748648 s Acceptance rate = 0.76514Adding DE jump with weight 50\n",
      "Finished 29.60 percent in 286873.369907 s Acceptance rate = 0.480115"
     ]
    },
    {
     "ename": "KeyboardInterrupt",
     "evalue": "",
     "output_type": "error",
     "traceback": [
      "\u001b[0;31m---------------------------------------------------------------------------\u001b[0m",
      "\u001b[0;31mKeyboardInterrupt\u001b[0m                         Traceback (most recent call last)",
      "\u001b[0;32m<ipython-input-28-ea8256e2fdfc>\u001b[0m in \u001b[0;36m<module>\u001b[0;34m\u001b[0m\n\u001b[0;32m----> 1\u001b[0;31m \u001b[0msampler\u001b[0m\u001b[0;34m.\u001b[0m\u001b[0msample\u001b[0m\u001b[0;34m(\u001b[0m\u001b[0mxecc\u001b[0m\u001b[0;34m,\u001b[0m \u001b[0mN\u001b[0m\u001b[0;34m,\u001b[0m \u001b[0mSCAMweight\u001b[0m\u001b[0;34m=\u001b[0m\u001b[0;36m30\u001b[0m\u001b[0;34m,\u001b[0m \u001b[0mAMweight\u001b[0m\u001b[0;34m=\u001b[0m\u001b[0;36m15\u001b[0m\u001b[0;34m,\u001b[0m \u001b[0mDEweight\u001b[0m\u001b[0;34m=\u001b[0m\u001b[0;36m50\u001b[0m\u001b[0;34m)\u001b[0m\u001b[0;34m\u001b[0m\u001b[0;34m\u001b[0m\u001b[0m\n\u001b[0m",
      "\u001b[0;32m~/anaconda3/envs/enterprise/lib/python3.6/site-packages/PTMCMCSampler/PTMCMCSampler.py\u001b[0m in \u001b[0;36msample\u001b[0;34m(self, p0, Niter, ladder, Tmin, Tmax, Tskip, isave, covUpdate, SCAMweight, AMweight, DEweight, NUTSweight, MALAweight, HMCweight, burn, HMCstepsize, HMCsteps, maxIter, thin, i0, neff, writeHotChains, hotChain)\u001b[0m\n\u001b[1;32m    360\u001b[0m             \u001b[0;31m# call PTMCMCOneStep\u001b[0m\u001b[0;34m\u001b[0m\u001b[0;34m\u001b[0m\u001b[0;34m\u001b[0m\u001b[0m\n\u001b[1;32m    361\u001b[0m             p0, lnlike0, lnprob0 = self.PTMCMCOneStep(\n\u001b[0;32m--> 362\u001b[0;31m                 p0, lnlike0, lnprob0, iter)\n\u001b[0m\u001b[1;32m    363\u001b[0m \u001b[0;34m\u001b[0m\u001b[0m\n\u001b[1;32m    364\u001b[0m             \u001b[0;31m# compute effective number of samples\u001b[0m\u001b[0;34m\u001b[0m\u001b[0;34m\u001b[0m\u001b[0;34m\u001b[0m\u001b[0m\n",
      "\u001b[0;32m~/anaconda3/envs/enterprise/lib/python3.6/site-packages/PTMCMCSampler/PTMCMCSampler.py\u001b[0m in \u001b[0;36mPTMCMCOneStep\u001b[0;34m(self, p0, lnlike0, lnprob0, iter)\u001b[0m\n\u001b[1;32m    488\u001b[0m             \u001b[0;32melse\u001b[0m\u001b[0;34m:\u001b[0m\u001b[0;34m\u001b[0m\u001b[0;34m\u001b[0m\u001b[0m\n\u001b[1;32m    489\u001b[0m \u001b[0;34m\u001b[0m\u001b[0m\n\u001b[0;32m--> 490\u001b[0;31m                 \u001b[0mnewlnlike\u001b[0m \u001b[0;34m=\u001b[0m \u001b[0mself\u001b[0m\u001b[0;34m.\u001b[0m\u001b[0mlogl\u001b[0m\u001b[0;34m(\u001b[0m\u001b[0my\u001b[0m\u001b[0;34m)\u001b[0m\u001b[0;34m\u001b[0m\u001b[0;34m\u001b[0m\u001b[0m\n\u001b[0m\u001b[1;32m    491\u001b[0m                 \u001b[0mnewlnprob\u001b[0m \u001b[0;34m=\u001b[0m \u001b[0;36m1\u001b[0m \u001b[0;34m/\u001b[0m \u001b[0mself\u001b[0m\u001b[0;34m.\u001b[0m\u001b[0mtemp\u001b[0m \u001b[0;34m*\u001b[0m \u001b[0mnewlnlike\u001b[0m \u001b[0;34m+\u001b[0m \u001b[0mlp\u001b[0m\u001b[0;34m\u001b[0m\u001b[0;34m\u001b[0m\u001b[0m\n\u001b[1;32m    492\u001b[0m \u001b[0;34m\u001b[0m\u001b[0m\n",
      "\u001b[0;32m~/anaconda3/envs/enterprise/lib/python3.6/site-packages/PTMCMCSampler/PTMCMCSampler.py\u001b[0m in \u001b[0;36m__call__\u001b[0;34m(self, x)\u001b[0m\n\u001b[1;32m   1024\u001b[0m \u001b[0;34m\u001b[0m\u001b[0m\n\u001b[1;32m   1025\u001b[0m     \u001b[0;32mdef\u001b[0m \u001b[0m__call__\u001b[0m\u001b[0;34m(\u001b[0m\u001b[0mself\u001b[0m\u001b[0;34m,\u001b[0m \u001b[0mx\u001b[0m\u001b[0;34m)\u001b[0m\u001b[0;34m:\u001b[0m\u001b[0;34m\u001b[0m\u001b[0;34m\u001b[0m\u001b[0m\n\u001b[0;32m-> 1026\u001b[0;31m         \u001b[0;32mreturn\u001b[0m \u001b[0mself\u001b[0m\u001b[0;34m.\u001b[0m\u001b[0mf\u001b[0m\u001b[0;34m(\u001b[0m\u001b[0mx\u001b[0m\u001b[0;34m,\u001b[0m \u001b[0;34m*\u001b[0m\u001b[0mself\u001b[0m\u001b[0;34m.\u001b[0m\u001b[0margs\u001b[0m\u001b[0;34m,\u001b[0m \u001b[0;34m**\u001b[0m\u001b[0mself\u001b[0m\u001b[0;34m.\u001b[0m\u001b[0mkwargs\u001b[0m\u001b[0;34m)\u001b[0m\u001b[0;34m\u001b[0m\u001b[0;34m\u001b[0m\u001b[0m\n\u001b[0m",
      "\u001b[0;32m~/anaconda3/envs/enterprise/lib/python3.6/site-packages/enterprise/signals/signal_base.py\u001b[0m in \u001b[0;36mget_lnlikelihood\u001b[0;34m(self, params, **kwargs)\u001b[0m\n\u001b[1;32m    293\u001b[0m \u001b[0;34m\u001b[0m\u001b[0m\n\u001b[1;32m    294\u001b[0m     \u001b[0;32mdef\u001b[0m \u001b[0mget_lnlikelihood\u001b[0m\u001b[0;34m(\u001b[0m\u001b[0mself\u001b[0m\u001b[0;34m,\u001b[0m \u001b[0mparams\u001b[0m\u001b[0;34m,\u001b[0m \u001b[0;34m**\u001b[0m\u001b[0mkwargs\u001b[0m\u001b[0;34m)\u001b[0m\u001b[0;34m:\u001b[0m\u001b[0;34m\u001b[0m\u001b[0;34m\u001b[0m\u001b[0m\n\u001b[0;32m--> 295\u001b[0;31m         \u001b[0;32mreturn\u001b[0m \u001b[0mself\u001b[0m\u001b[0;34m.\u001b[0m\u001b[0m_lnlikelihood\u001b[0m\u001b[0;34m(\u001b[0m\u001b[0mparams\u001b[0m\u001b[0;34m,\u001b[0m \u001b[0;34m**\u001b[0m\u001b[0mkwargs\u001b[0m\u001b[0;34m)\u001b[0m\u001b[0;34m\u001b[0m\u001b[0;34m\u001b[0m\u001b[0m\n\u001b[0m\u001b[1;32m    296\u001b[0m \u001b[0;34m\u001b[0m\u001b[0m\n\u001b[1;32m    297\u001b[0m     \u001b[0;34m@\u001b[0m\u001b[0mproperty\u001b[0m\u001b[0;34m\u001b[0m\u001b[0;34m\u001b[0m\u001b[0m\n",
      "\u001b[0;32m~/anaconda3/envs/enterprise/lib/python3.6/site-packages/enterprise/signals/signal_base.py\u001b[0m in \u001b[0;36m__call__\u001b[0;34m(self, xs, phiinv_method)\u001b[0m\n\u001b[1;32m    167\u001b[0m         \u001b[0;31m# phiinvs will be a list or may be a big matrix if spatially\u001b[0m\u001b[0;34m\u001b[0m\u001b[0;34m\u001b[0m\u001b[0;34m\u001b[0m\u001b[0m\n\u001b[1;32m    168\u001b[0m         \u001b[0;31m# correlated signals\u001b[0m\u001b[0;34m\u001b[0m\u001b[0;34m\u001b[0m\u001b[0;34m\u001b[0m\u001b[0m\n\u001b[0;32m--> 169\u001b[0;31m         \u001b[0mTNrs\u001b[0m \u001b[0;34m=\u001b[0m \u001b[0mself\u001b[0m\u001b[0;34m.\u001b[0m\u001b[0mpta\u001b[0m\u001b[0;34m.\u001b[0m\u001b[0mget_TNr\u001b[0m\u001b[0;34m(\u001b[0m\u001b[0mparams\u001b[0m\u001b[0;34m)\u001b[0m\u001b[0;34m\u001b[0m\u001b[0;34m\u001b[0m\u001b[0m\n\u001b[0m\u001b[1;32m    170\u001b[0m         \u001b[0mTNTs\u001b[0m \u001b[0;34m=\u001b[0m \u001b[0mself\u001b[0m\u001b[0;34m.\u001b[0m\u001b[0mpta\u001b[0m\u001b[0;34m.\u001b[0m\u001b[0mget_TNT\u001b[0m\u001b[0;34m(\u001b[0m\u001b[0mparams\u001b[0m\u001b[0;34m)\u001b[0m\u001b[0;34m\u001b[0m\u001b[0;34m\u001b[0m\u001b[0m\n\u001b[1;32m    171\u001b[0m         \u001b[0mphiinvs\u001b[0m \u001b[0;34m=\u001b[0m \u001b[0mself\u001b[0m\u001b[0;34m.\u001b[0m\u001b[0mpta\u001b[0m\u001b[0;34m.\u001b[0m\u001b[0mget_phiinv\u001b[0m\u001b[0;34m(\u001b[0m\u001b[0mparams\u001b[0m\u001b[0;34m,\u001b[0m \u001b[0mlogdet\u001b[0m\u001b[0;34m=\u001b[0m\u001b[0;32mTrue\u001b[0m\u001b[0;34m,\u001b[0m \u001b[0mmethod\u001b[0m\u001b[0;34m=\u001b[0m\u001b[0mphiinv_method\u001b[0m\u001b[0;34m)\u001b[0m\u001b[0;34m\u001b[0m\u001b[0;34m\u001b[0m\u001b[0m\n",
      "\u001b[0;32m~/anaconda3/envs/enterprise/lib/python3.6/site-packages/enterprise/signals/signal_base.py\u001b[0m in \u001b[0;36mget_TNr\u001b[0;34m(self, params)\u001b[0m\n\u001b[1;32m    260\u001b[0m \u001b[0;34m\u001b[0m\u001b[0m\n\u001b[1;32m    261\u001b[0m     \u001b[0;32mdef\u001b[0m \u001b[0mget_TNr\u001b[0m\u001b[0;34m(\u001b[0m\u001b[0mself\u001b[0m\u001b[0;34m,\u001b[0m \u001b[0mparams\u001b[0m\u001b[0;34m)\u001b[0m\u001b[0;34m:\u001b[0m\u001b[0;34m\u001b[0m\u001b[0;34m\u001b[0m\u001b[0m\n\u001b[0;32m--> 262\u001b[0;31m         \u001b[0;32mreturn\u001b[0m \u001b[0;34m[\u001b[0m\u001b[0msignalcollection\u001b[0m\u001b[0;34m.\u001b[0m\u001b[0mget_TNr\u001b[0m\u001b[0;34m(\u001b[0m\u001b[0mparams\u001b[0m\u001b[0;34m)\u001b[0m \u001b[0;32mfor\u001b[0m \u001b[0msignalcollection\u001b[0m \u001b[0;32min\u001b[0m \u001b[0mself\u001b[0m\u001b[0;34m.\u001b[0m\u001b[0m_signalcollections\u001b[0m\u001b[0;34m]\u001b[0m\u001b[0;34m\u001b[0m\u001b[0;34m\u001b[0m\u001b[0m\n\u001b[0m\u001b[1;32m    263\u001b[0m \u001b[0;34m\u001b[0m\u001b[0m\n\u001b[1;32m    264\u001b[0m     \u001b[0;32mdef\u001b[0m \u001b[0mget_TNT\u001b[0m\u001b[0;34m(\u001b[0m\u001b[0mself\u001b[0m\u001b[0;34m,\u001b[0m \u001b[0mparams\u001b[0m\u001b[0;34m)\u001b[0m\u001b[0;34m:\u001b[0m\u001b[0;34m\u001b[0m\u001b[0;34m\u001b[0m\u001b[0m\n",
      "\u001b[0;32m~/anaconda3/envs/enterprise/lib/python3.6/site-packages/enterprise/signals/signal_base.py\u001b[0m in \u001b[0;36m<listcomp>\u001b[0;34m(.0)\u001b[0m\n\u001b[1;32m    260\u001b[0m \u001b[0;34m\u001b[0m\u001b[0m\n\u001b[1;32m    261\u001b[0m     \u001b[0;32mdef\u001b[0m \u001b[0mget_TNr\u001b[0m\u001b[0;34m(\u001b[0m\u001b[0mself\u001b[0m\u001b[0;34m,\u001b[0m \u001b[0mparams\u001b[0m\u001b[0;34m)\u001b[0m\u001b[0;34m:\u001b[0m\u001b[0;34m\u001b[0m\u001b[0;34m\u001b[0m\u001b[0m\n\u001b[0;32m--> 262\u001b[0;31m         \u001b[0;32mreturn\u001b[0m \u001b[0;34m[\u001b[0m\u001b[0msignalcollection\u001b[0m\u001b[0;34m.\u001b[0m\u001b[0mget_TNr\u001b[0m\u001b[0;34m(\u001b[0m\u001b[0mparams\u001b[0m\u001b[0;34m)\u001b[0m \u001b[0;32mfor\u001b[0m \u001b[0msignalcollection\u001b[0m \u001b[0;32min\u001b[0m \u001b[0mself\u001b[0m\u001b[0;34m.\u001b[0m\u001b[0m_signalcollections\u001b[0m\u001b[0;34m]\u001b[0m\u001b[0;34m\u001b[0m\u001b[0;34m\u001b[0m\u001b[0m\n\u001b[0m\u001b[1;32m    263\u001b[0m \u001b[0;34m\u001b[0m\u001b[0m\n\u001b[1;32m    264\u001b[0m     \u001b[0;32mdef\u001b[0m \u001b[0mget_TNT\u001b[0m\u001b[0;34m(\u001b[0m\u001b[0mself\u001b[0m\u001b[0;34m,\u001b[0m \u001b[0mparams\u001b[0m\u001b[0;34m)\u001b[0m\u001b[0;34m:\u001b[0m\u001b[0;34m\u001b[0m\u001b[0;34m\u001b[0m\u001b[0m\n",
      "\u001b[0;32m~/anaconda3/envs/enterprise/lib/python3.6/site-packages/enterprise/signals/signal_base.py\u001b[0m in \u001b[0;36mwrapper\u001b[0;34m(self, params)\u001b[0m\n\u001b[1;32m    898\u001b[0m                 \u001b[0mlogger\u001b[0m\u001b[0;34m.\u001b[0m\u001b[0mdebug\u001b[0m\u001b[0;34m(\u001b[0m\u001b[0mmsg\u001b[0m\u001b[0;34m)\u001b[0m\u001b[0;34m\u001b[0m\u001b[0;34m\u001b[0m\u001b[0m\n\u001b[1;32m    899\u001b[0m                 \u001b[0mcache_list\u001b[0m\u001b[0;34m.\u001b[0m\u001b[0mappend\u001b[0m\u001b[0;34m(\u001b[0m\u001b[0mkey\u001b[0m\u001b[0;34m)\u001b[0m\u001b[0;34m\u001b[0m\u001b[0;34m\u001b[0m\u001b[0m\n\u001b[0;32m--> 900\u001b[0;31m                 \u001b[0mcache\u001b[0m\u001b[0;34m[\u001b[0m\u001b[0mkey\u001b[0m\u001b[0;34m]\u001b[0m \u001b[0;34m=\u001b[0m \u001b[0mfunc\u001b[0m\u001b[0;34m(\u001b[0m\u001b[0mself\u001b[0m\u001b[0;34m,\u001b[0m \u001b[0mparams\u001b[0m\u001b[0;34m)\u001b[0m\u001b[0;34m\u001b[0m\u001b[0;34m\u001b[0m\u001b[0m\n\u001b[0m\u001b[1;32m    901\u001b[0m                 \u001b[0;32mif\u001b[0m \u001b[0mlen\u001b[0m\u001b[0;34m(\u001b[0m\u001b[0mcache_list\u001b[0m\u001b[0;34m)\u001b[0m \u001b[0;34m>\u001b[0m \u001b[0mlimit\u001b[0m\u001b[0;34m:\u001b[0m\u001b[0;34m\u001b[0m\u001b[0;34m\u001b[0m\u001b[0m\n\u001b[1;32m    902\u001b[0m                     \u001b[0m_\u001b[0m \u001b[0;34m=\u001b[0m \u001b[0mcache\u001b[0m\u001b[0;34m.\u001b[0m\u001b[0mpop\u001b[0m\u001b[0;34m(\u001b[0m\u001b[0mcache_list\u001b[0m\u001b[0;34m.\u001b[0m\u001b[0mpop\u001b[0m\u001b[0;34m(\u001b[0m\u001b[0;36m0\u001b[0m\u001b[0;34m)\u001b[0m\u001b[0;34m,\u001b[0m \u001b[0;32mNone\u001b[0m\u001b[0;34m)\u001b[0m  \u001b[0;31m# noqa: F841\u001b[0m\u001b[0;34m\u001b[0m\u001b[0;34m\u001b[0m\u001b[0m\n",
      "\u001b[0;32m~/anaconda3/envs/enterprise/lib/python3.6/site-packages/enterprise/signals/signal_base.py\u001b[0m in \u001b[0;36mget_TNr\u001b[0;34m(self, params)\u001b[0m\n\u001b[1;32m    831\u001b[0m                 \u001b[0;32mreturn\u001b[0m \u001b[0;32mNone\u001b[0m\u001b[0;34m\u001b[0m\u001b[0;34m\u001b[0m\u001b[0m\n\u001b[1;32m    832\u001b[0m             \u001b[0mNvec\u001b[0m \u001b[0;34m=\u001b[0m \u001b[0mself\u001b[0m\u001b[0;34m.\u001b[0m\u001b[0mget_ndiag\u001b[0m\u001b[0;34m(\u001b[0m\u001b[0mparams\u001b[0m\u001b[0;34m)\u001b[0m\u001b[0;34m\u001b[0m\u001b[0;34m\u001b[0m\u001b[0m\n\u001b[0;32m--> 833\u001b[0;31m             \u001b[0mres\u001b[0m \u001b[0;34m=\u001b[0m \u001b[0mself\u001b[0m\u001b[0;34m.\u001b[0m\u001b[0mget_detres\u001b[0m\u001b[0;34m(\u001b[0m\u001b[0mparams\u001b[0m\u001b[0;34m)\u001b[0m\u001b[0;34m\u001b[0m\u001b[0;34m\u001b[0m\u001b[0m\n\u001b[0m\u001b[1;32m    834\u001b[0m             \u001b[0;32mreturn\u001b[0m \u001b[0mNvec\u001b[0m\u001b[0;34m.\u001b[0m\u001b[0msolve\u001b[0m\u001b[0;34m(\u001b[0m\u001b[0mres\u001b[0m\u001b[0;34m,\u001b[0m \u001b[0mleft_array\u001b[0m\u001b[0;34m=\u001b[0m\u001b[0mT\u001b[0m\u001b[0;34m)\u001b[0m\u001b[0;34m\u001b[0m\u001b[0;34m\u001b[0m\u001b[0m\n\u001b[1;32m    835\u001b[0m \u001b[0;34m\u001b[0m\u001b[0m\n",
      "\u001b[0;32m~/anaconda3/envs/enterprise/lib/python3.6/site-packages/enterprise/signals/signal_base.py\u001b[0m in \u001b[0;36mwrapper\u001b[0;34m(self, params)\u001b[0m\n\u001b[1;32m    898\u001b[0m                 \u001b[0mlogger\u001b[0m\u001b[0;34m.\u001b[0m\u001b[0mdebug\u001b[0m\u001b[0;34m(\u001b[0m\u001b[0mmsg\u001b[0m\u001b[0;34m)\u001b[0m\u001b[0;34m\u001b[0m\u001b[0;34m\u001b[0m\u001b[0m\n\u001b[1;32m    899\u001b[0m                 \u001b[0mcache_list\u001b[0m\u001b[0;34m.\u001b[0m\u001b[0mappend\u001b[0m\u001b[0;34m(\u001b[0m\u001b[0mkey\u001b[0m\u001b[0;34m)\u001b[0m\u001b[0;34m\u001b[0m\u001b[0;34m\u001b[0m\u001b[0m\n\u001b[0;32m--> 900\u001b[0;31m                 \u001b[0mcache\u001b[0m\u001b[0;34m[\u001b[0m\u001b[0mkey\u001b[0m\u001b[0;34m]\u001b[0m \u001b[0;34m=\u001b[0m \u001b[0mfunc\u001b[0m\u001b[0;34m(\u001b[0m\u001b[0mself\u001b[0m\u001b[0;34m,\u001b[0m \u001b[0mparams\u001b[0m\u001b[0;34m)\u001b[0m\u001b[0;34m\u001b[0m\u001b[0;34m\u001b[0m\u001b[0m\n\u001b[0m\u001b[1;32m    901\u001b[0m                 \u001b[0;32mif\u001b[0m \u001b[0mlen\u001b[0m\u001b[0;34m(\u001b[0m\u001b[0mcache_list\u001b[0m\u001b[0;34m)\u001b[0m \u001b[0;34m>\u001b[0m \u001b[0mlimit\u001b[0m\u001b[0;34m:\u001b[0m\u001b[0;34m\u001b[0m\u001b[0;34m\u001b[0m\u001b[0m\n\u001b[1;32m    902\u001b[0m                     \u001b[0m_\u001b[0m \u001b[0;34m=\u001b[0m \u001b[0mcache\u001b[0m\u001b[0;34m.\u001b[0m\u001b[0mpop\u001b[0m\u001b[0;34m(\u001b[0m\u001b[0mcache_list\u001b[0m\u001b[0;34m.\u001b[0m\u001b[0mpop\u001b[0m\u001b[0;34m(\u001b[0m\u001b[0;36m0\u001b[0m\u001b[0;34m)\u001b[0m\u001b[0;34m,\u001b[0m \u001b[0;32mNone\u001b[0m\u001b[0;34m)\u001b[0m  \u001b[0;31m# noqa: F841\u001b[0m\u001b[0;34m\u001b[0m\u001b[0;34m\u001b[0m\u001b[0m\n",
      "\u001b[0;32m~/anaconda3/envs/enterprise/lib/python3.6/site-packages/enterprise/signals/signal_base.py\u001b[0m in \u001b[0;36mget_detres\u001b[0;34m(self, params)\u001b[0m\n\u001b[1;32m    800\u001b[0m         \u001b[0;34m@\u001b[0m\u001b[0mcache_call\u001b[0m\u001b[0;34m(\u001b[0m\u001b[0;34m\"delay_params\"\u001b[0m\u001b[0;34m)\u001b[0m\u001b[0;34m\u001b[0m\u001b[0;34m\u001b[0m\u001b[0m\n\u001b[1;32m    801\u001b[0m         \u001b[0;32mdef\u001b[0m \u001b[0mget_detres\u001b[0m\u001b[0;34m(\u001b[0m\u001b[0mself\u001b[0m\u001b[0;34m,\u001b[0m \u001b[0mparams\u001b[0m\u001b[0;34m)\u001b[0m\u001b[0;34m:\u001b[0m\u001b[0;34m\u001b[0m\u001b[0;34m\u001b[0m\u001b[0m\n\u001b[0;32m--> 802\u001b[0;31m             \u001b[0;32mreturn\u001b[0m \u001b[0mself\u001b[0m\u001b[0;34m.\u001b[0m\u001b[0m_residuals\u001b[0m \u001b[0;34m-\u001b[0m \u001b[0mself\u001b[0m\u001b[0;34m.\u001b[0m\u001b[0mget_delay\u001b[0m\u001b[0;34m(\u001b[0m\u001b[0mparams\u001b[0m\u001b[0;34m)\u001b[0m\u001b[0;34m\u001b[0m\u001b[0;34m\u001b[0m\u001b[0m\n\u001b[0m\u001b[1;32m    803\u001b[0m \u001b[0;34m\u001b[0m\u001b[0m\n\u001b[1;32m    804\u001b[0m         \u001b[0;34m@\u001b[0m\u001b[0mcache_call\u001b[0m\u001b[0;34m(\u001b[0m\u001b[0;34m\"basis_params\"\u001b[0m\u001b[0;34m)\u001b[0m\u001b[0;34m\u001b[0m\u001b[0;34m\u001b[0m\u001b[0m\n",
      "\u001b[0;32m~/anaconda3/envs/enterprise/lib/python3.6/site-packages/enterprise/signals/signal_base.py\u001b[0m in \u001b[0;36mwrapper\u001b[0;34m(self, params)\u001b[0m\n\u001b[1;32m    898\u001b[0m                 \u001b[0mlogger\u001b[0m\u001b[0;34m.\u001b[0m\u001b[0mdebug\u001b[0m\u001b[0;34m(\u001b[0m\u001b[0mmsg\u001b[0m\u001b[0;34m)\u001b[0m\u001b[0;34m\u001b[0m\u001b[0;34m\u001b[0m\u001b[0m\n\u001b[1;32m    899\u001b[0m                 \u001b[0mcache_list\u001b[0m\u001b[0;34m.\u001b[0m\u001b[0mappend\u001b[0m\u001b[0;34m(\u001b[0m\u001b[0mkey\u001b[0m\u001b[0;34m)\u001b[0m\u001b[0;34m\u001b[0m\u001b[0;34m\u001b[0m\u001b[0m\n\u001b[0;32m--> 900\u001b[0;31m                 \u001b[0mcache\u001b[0m\u001b[0;34m[\u001b[0m\u001b[0mkey\u001b[0m\u001b[0;34m]\u001b[0m \u001b[0;34m=\u001b[0m \u001b[0mfunc\u001b[0m\u001b[0;34m(\u001b[0m\u001b[0mself\u001b[0m\u001b[0;34m,\u001b[0m \u001b[0mparams\u001b[0m\u001b[0;34m)\u001b[0m\u001b[0;34m\u001b[0m\u001b[0;34m\u001b[0m\u001b[0m\n\u001b[0m\u001b[1;32m    901\u001b[0m                 \u001b[0;32mif\u001b[0m \u001b[0mlen\u001b[0m\u001b[0;34m(\u001b[0m\u001b[0mcache_list\u001b[0m\u001b[0;34m)\u001b[0m \u001b[0;34m>\u001b[0m \u001b[0mlimit\u001b[0m\u001b[0;34m:\u001b[0m\u001b[0;34m\u001b[0m\u001b[0;34m\u001b[0m\u001b[0m\n\u001b[1;32m    902\u001b[0m                     \u001b[0m_\u001b[0m \u001b[0;34m=\u001b[0m \u001b[0mcache\u001b[0m\u001b[0;34m.\u001b[0m\u001b[0mpop\u001b[0m\u001b[0;34m(\u001b[0m\u001b[0mcache_list\u001b[0m\u001b[0;34m.\u001b[0m\u001b[0mpop\u001b[0m\u001b[0;34m(\u001b[0m\u001b[0;36m0\u001b[0m\u001b[0;34m)\u001b[0m\u001b[0;34m,\u001b[0m \u001b[0;32mNone\u001b[0m\u001b[0;34m)\u001b[0m  \u001b[0;31m# noqa: F841\u001b[0m\u001b[0;34m\u001b[0m\u001b[0;34m\u001b[0m\u001b[0m\n",
      "\u001b[0;32m~/anaconda3/envs/enterprise/lib/python3.6/site-packages/enterprise/signals/signal_base.py\u001b[0m in \u001b[0;36mget_delay\u001b[0;34m(self, params)\u001b[0m\n\u001b[1;32m    795\u001b[0m         \u001b[0;34m@\u001b[0m\u001b[0mcache_call\u001b[0m\u001b[0;34m(\u001b[0m\u001b[0;34m\"delay_params\"\u001b[0m\u001b[0;34m)\u001b[0m\u001b[0;34m\u001b[0m\u001b[0;34m\u001b[0m\u001b[0m\n\u001b[1;32m    796\u001b[0m         \u001b[0;32mdef\u001b[0m \u001b[0mget_delay\u001b[0m\u001b[0;34m(\u001b[0m\u001b[0mself\u001b[0m\u001b[0;34m,\u001b[0m \u001b[0mparams\u001b[0m\u001b[0;34m)\u001b[0m\u001b[0;34m:\u001b[0m\u001b[0;34m\u001b[0m\u001b[0;34m\u001b[0m\u001b[0m\n\u001b[0;32m--> 797\u001b[0;31m             \u001b[0mdelays\u001b[0m \u001b[0;34m=\u001b[0m \u001b[0;34m[\u001b[0m\u001b[0msignal\u001b[0m\u001b[0;34m.\u001b[0m\u001b[0mget_delay\u001b[0m\u001b[0;34m(\u001b[0m\u001b[0mparams\u001b[0m\u001b[0;34m)\u001b[0m \u001b[0;32mfor\u001b[0m \u001b[0msignal\u001b[0m \u001b[0;32min\u001b[0m \u001b[0mself\u001b[0m\u001b[0;34m.\u001b[0m\u001b[0m_signals\u001b[0m\u001b[0;34m]\u001b[0m\u001b[0;34m\u001b[0m\u001b[0;34m\u001b[0m\u001b[0m\n\u001b[0m\u001b[1;32m    798\u001b[0m             \u001b[0;32mreturn\u001b[0m \u001b[0msum\u001b[0m\u001b[0;34m(\u001b[0m\u001b[0mdelay\u001b[0m \u001b[0;32mfor\u001b[0m \u001b[0mdelay\u001b[0m \u001b[0;32min\u001b[0m \u001b[0mdelays\u001b[0m \u001b[0;32mif\u001b[0m \u001b[0mdelay\u001b[0m \u001b[0;32mis\u001b[0m \u001b[0;32mnot\u001b[0m \u001b[0;32mNone\u001b[0m\u001b[0;34m)\u001b[0m\u001b[0;34m\u001b[0m\u001b[0;34m\u001b[0m\u001b[0m\n\u001b[1;32m    799\u001b[0m \u001b[0;34m\u001b[0m\u001b[0m\n",
      "\u001b[0;32m~/anaconda3/envs/enterprise/lib/python3.6/site-packages/enterprise/signals/signal_base.py\u001b[0m in \u001b[0;36m<listcomp>\u001b[0;34m(.0)\u001b[0m\n\u001b[1;32m    795\u001b[0m         \u001b[0;34m@\u001b[0m\u001b[0mcache_call\u001b[0m\u001b[0;34m(\u001b[0m\u001b[0;34m\"delay_params\"\u001b[0m\u001b[0;34m)\u001b[0m\u001b[0;34m\u001b[0m\u001b[0;34m\u001b[0m\u001b[0m\n\u001b[1;32m    796\u001b[0m         \u001b[0;32mdef\u001b[0m \u001b[0mget_delay\u001b[0m\u001b[0;34m(\u001b[0m\u001b[0mself\u001b[0m\u001b[0;34m,\u001b[0m \u001b[0mparams\u001b[0m\u001b[0;34m)\u001b[0m\u001b[0;34m:\u001b[0m\u001b[0;34m\u001b[0m\u001b[0;34m\u001b[0m\u001b[0m\n\u001b[0;32m--> 797\u001b[0;31m             \u001b[0mdelays\u001b[0m \u001b[0;34m=\u001b[0m \u001b[0;34m[\u001b[0m\u001b[0msignal\u001b[0m\u001b[0;34m.\u001b[0m\u001b[0mget_delay\u001b[0m\u001b[0;34m(\u001b[0m\u001b[0mparams\u001b[0m\u001b[0;34m)\u001b[0m \u001b[0;32mfor\u001b[0m \u001b[0msignal\u001b[0m \u001b[0;32min\u001b[0m \u001b[0mself\u001b[0m\u001b[0;34m.\u001b[0m\u001b[0m_signals\u001b[0m\u001b[0;34m]\u001b[0m\u001b[0;34m\u001b[0m\u001b[0;34m\u001b[0m\u001b[0m\n\u001b[0m\u001b[1;32m    798\u001b[0m             \u001b[0;32mreturn\u001b[0m \u001b[0msum\u001b[0m\u001b[0;34m(\u001b[0m\u001b[0mdelay\u001b[0m \u001b[0;32mfor\u001b[0m \u001b[0mdelay\u001b[0m \u001b[0;32min\u001b[0m \u001b[0mdelays\u001b[0m \u001b[0;32mif\u001b[0m \u001b[0mdelay\u001b[0m \u001b[0;32mis\u001b[0m \u001b[0;32mnot\u001b[0m \u001b[0;32mNone\u001b[0m\u001b[0;34m)\u001b[0m\u001b[0;34m\u001b[0m\u001b[0;34m\u001b[0m\u001b[0m\n\u001b[1;32m    799\u001b[0m \u001b[0;34m\u001b[0m\u001b[0m\n",
      "\u001b[0;32m~/anaconda3/envs/enterprise/lib/python3.6/site-packages/enterprise/signals/signal_base.py\u001b[0m in \u001b[0;36mwrapper\u001b[0;34m(self, params)\u001b[0m\n\u001b[1;32m    898\u001b[0m                 \u001b[0mlogger\u001b[0m\u001b[0;34m.\u001b[0m\u001b[0mdebug\u001b[0m\u001b[0;34m(\u001b[0m\u001b[0mmsg\u001b[0m\u001b[0;34m)\u001b[0m\u001b[0;34m\u001b[0m\u001b[0;34m\u001b[0m\u001b[0m\n\u001b[1;32m    899\u001b[0m                 \u001b[0mcache_list\u001b[0m\u001b[0;34m.\u001b[0m\u001b[0mappend\u001b[0m\u001b[0;34m(\u001b[0m\u001b[0mkey\u001b[0m\u001b[0;34m)\u001b[0m\u001b[0;34m\u001b[0m\u001b[0;34m\u001b[0m\u001b[0m\n\u001b[0;32m--> 900\u001b[0;31m                 \u001b[0mcache\u001b[0m\u001b[0;34m[\u001b[0m\u001b[0mkey\u001b[0m\u001b[0;34m]\u001b[0m \u001b[0;34m=\u001b[0m \u001b[0mfunc\u001b[0m\u001b[0;34m(\u001b[0m\u001b[0mself\u001b[0m\u001b[0;34m,\u001b[0m \u001b[0mparams\u001b[0m\u001b[0;34m)\u001b[0m\u001b[0;34m\u001b[0m\u001b[0;34m\u001b[0m\u001b[0m\n\u001b[0m\u001b[1;32m    901\u001b[0m                 \u001b[0;32mif\u001b[0m \u001b[0mlen\u001b[0m\u001b[0;34m(\u001b[0m\u001b[0mcache_list\u001b[0m\u001b[0;34m)\u001b[0m \u001b[0;34m>\u001b[0m \u001b[0mlimit\u001b[0m\u001b[0;34m:\u001b[0m\u001b[0;34m\u001b[0m\u001b[0;34m\u001b[0m\u001b[0m\n\u001b[1;32m    902\u001b[0m                     \u001b[0m_\u001b[0m \u001b[0;34m=\u001b[0m \u001b[0mcache\u001b[0m\u001b[0;34m.\u001b[0m\u001b[0mpop\u001b[0m\u001b[0;34m(\u001b[0m\u001b[0mcache_list\u001b[0m\u001b[0;34m.\u001b[0m\u001b[0mpop\u001b[0m\u001b[0;34m(\u001b[0m\u001b[0;36m0\u001b[0m\u001b[0;34m)\u001b[0m\u001b[0;34m,\u001b[0m \u001b[0;32mNone\u001b[0m\u001b[0;34m)\u001b[0m  \u001b[0;31m# noqa: F841\u001b[0m\u001b[0;34m\u001b[0m\u001b[0;34m\u001b[0m\u001b[0m\n",
      "\u001b[0;32m~/anaconda3/envs/enterprise/lib/python3.6/site-packages/enterprise/signals/deterministic_signals.py\u001b[0m in \u001b[0;36mget_delay\u001b[0;34m(self, params)\u001b[0m\n\u001b[1;32m     50\u001b[0m             \u001b[0;34m\"\"\"Return signal delay.\"\"\"\u001b[0m\u001b[0;34m\u001b[0m\u001b[0;34m\u001b[0m\u001b[0m\n\u001b[1;32m     51\u001b[0m             \u001b[0;32mfor\u001b[0m \u001b[0mkey\u001b[0m\u001b[0;34m,\u001b[0m \u001b[0mmask\u001b[0m \u001b[0;32min\u001b[0m \u001b[0mzip\u001b[0m\u001b[0;34m(\u001b[0m\u001b[0mself\u001b[0m\u001b[0;34m.\u001b[0m\u001b[0m_keys\u001b[0m\u001b[0;34m,\u001b[0m \u001b[0mself\u001b[0m\u001b[0;34m.\u001b[0m\u001b[0m_masks\u001b[0m\u001b[0;34m)\u001b[0m\u001b[0;34m:\u001b[0m\u001b[0;34m\u001b[0m\u001b[0;34m\u001b[0m\u001b[0m\n\u001b[0;32m---> 52\u001b[0;31m                 \u001b[0mself\u001b[0m\u001b[0;34m.\u001b[0m\u001b[0m_delay\u001b[0m\u001b[0;34m[\u001b[0m\u001b[0mmask\u001b[0m\u001b[0;34m]\u001b[0m \u001b[0;34m=\u001b[0m \u001b[0mself\u001b[0m\u001b[0;34m.\u001b[0m\u001b[0m_wf\u001b[0m\u001b[0;34m[\u001b[0m\u001b[0mkey\u001b[0m\u001b[0;34m]\u001b[0m\u001b[0;34m(\u001b[0m\u001b[0mparams\u001b[0m\u001b[0;34m=\u001b[0m\u001b[0mparams\u001b[0m\u001b[0;34m,\u001b[0m \u001b[0mmask\u001b[0m\u001b[0;34m=\u001b[0m\u001b[0mmask\u001b[0m\u001b[0;34m)\u001b[0m\u001b[0;34m\u001b[0m\u001b[0;34m\u001b[0m\u001b[0m\n\u001b[0m\u001b[1;32m     53\u001b[0m             \u001b[0;32mreturn\u001b[0m \u001b[0mself\u001b[0m\u001b[0;34m.\u001b[0m\u001b[0m_delay\u001b[0m\u001b[0;34m\u001b[0m\u001b[0;34m\u001b[0m\u001b[0m\n\u001b[1;32m     54\u001b[0m \u001b[0;34m\u001b[0m\u001b[0m\n",
      "\u001b[0;32m~/anaconda3/envs/enterprise/lib/python3.6/site-packages/enterprise/signals/parameter.py\u001b[0m in \u001b[0;36m__call__\u001b[0;34m(self, *args, **kwargs)\u001b[0m\n\u001b[1;32m    464\u001b[0m             }\n\u001b[1;32m    465\u001b[0m \u001b[0;34m\u001b[0m\u001b[0m\n\u001b[0;32m--> 466\u001b[0;31m             \u001b[0;32mreturn\u001b[0m \u001b[0mfunc\u001b[0m\u001b[0;34m(\u001b[0m\u001b[0;34m*\u001b[0m\u001b[0margs\u001b[0m\u001b[0;34m,\u001b[0m \u001b[0;34m**\u001b[0m\u001b[0mkwargs\u001b[0m\u001b[0;34m)\u001b[0m\u001b[0;34m\u001b[0m\u001b[0;34m\u001b[0m\u001b[0m\n\u001b[0m\u001b[1;32m    467\u001b[0m \u001b[0;34m\u001b[0m\u001b[0m\n\u001b[1;32m    468\u001b[0m         \u001b[0;32mdef\u001b[0m \u001b[0madd_kwarg\u001b[0m\u001b[0;34m(\u001b[0m\u001b[0mself\u001b[0m\u001b[0;34m,\u001b[0m \u001b[0;34m**\u001b[0m\u001b[0mkwargs\u001b[0m\u001b[0;34m)\u001b[0m\u001b[0;34m:\u001b[0m\u001b[0;34m\u001b[0m\u001b[0;34m\u001b[0m\u001b[0m\n",
      "\u001b[0;32m~/anaconda3/envs/enterprise/lib/python3.6/site-packages/enterprise/signals/selections.py\u001b[0m in \u001b[0;36mwrapper\u001b[0;34m(*args, **kwargs)\u001b[0m\n\u001b[1;32m     48\u001b[0m             \u001b[0;32mdel\u001b[0m \u001b[0mkwargs\u001b[0m\u001b[0;34m[\u001b[0m\u001b[0;34m\"psr\"\u001b[0m\u001b[0;34m]\u001b[0m\u001b[0;34m\u001b[0m\u001b[0;34m\u001b[0m\u001b[0m\n\u001b[1;32m     49\u001b[0m \u001b[0;34m\u001b[0m\u001b[0m\n\u001b[0;32m---> 50\u001b[0;31m         \u001b[0;32mreturn\u001b[0m \u001b[0mfunc\u001b[0m\u001b[0;34m(\u001b[0m\u001b[0;34m*\u001b[0m\u001b[0mtargs\u001b[0m\u001b[0;34m,\u001b[0m \u001b[0;34m**\u001b[0m\u001b[0mkwargs\u001b[0m\u001b[0;34m)\u001b[0m\u001b[0;34m\u001b[0m\u001b[0;34m\u001b[0m\u001b[0m\n\u001b[0m\u001b[1;32m     51\u001b[0m \u001b[0;34m\u001b[0m\u001b[0m\n\u001b[1;32m     52\u001b[0m     \u001b[0;32mreturn\u001b[0m \u001b[0mwrapper\u001b[0m\u001b[0;34m\u001b[0m\u001b[0;34m\u001b[0m\u001b[0m\n",
      "\u001b[0;32m~/nanograv_proj/enterprise_proj/pta_tutorial/ecc_res.py\u001b[0m in \u001b[0;36madd_ecc_cgw\u001b[0;34m(toas, phi, theta, gwphi, gwtheta, mc, q, F0, e0, l0, gamma0, inc, psi, pdist, gwdist, l_P, gamma_P, tref, psrterm, evol, waveform_cal, res)\u001b[0m\n\u001b[1;32m     74\u001b[0m             \u001b[0mgamma0_P\u001b[0m \u001b[0;34m=\u001b[0m \u001b[0mgamma_P\u001b[0m\u001b[0;34m\u001b[0m\u001b[0;34m\u001b[0m\u001b[0m\n\u001b[1;32m     75\u001b[0m \u001b[0;34m\u001b[0m\u001b[0m\n\u001b[0;32m---> 76\u001b[0;31m         \u001b[0mresidual_P\u001b[0m \u001b[0;34m=\u001b[0m \u001b[0mwaveform\u001b[0m\u001b[0;34m.\u001b[0m\u001b[0mcalculate_sp_sx\u001b[0m\u001b[0;34m(\u001b[0m\u001b[0mtoas_P\u001b[0m\u001b[0;34m,\u001b[0m \u001b[0mpdist\u001b[0m\u001b[0;34m,\u001b[0m \u001b[0mmc\u001b[0m\u001b[0;34m,\u001b[0m \u001b[0mq\u001b[0m\u001b[0;34m,\u001b[0m \u001b[0mn0_P\u001b[0m\u001b[0;34m,\u001b[0m \u001b[0me0_P\u001b[0m\u001b[0;34m,\u001b[0m \u001b[0ml0_P\u001b[0m\u001b[0;34m,\u001b[0m \u001b[0mgamma0_P\u001b[0m\u001b[0;34m,\u001b[0m \u001b[0minc\u001b[0m\u001b[0;34m,\u001b[0m \u001b[0mpsi\u001b[0m\u001b[0;34m,\u001b[0m \u001b[0mtref_P\u001b[0m\u001b[0;34m,\u001b[0m \u001b[0mFp\u001b[0m\u001b[0;34m,\u001b[0m \u001b[0mFx\u001b[0m\u001b[0;34m,\u001b[0m \u001b[0mevol\u001b[0m\u001b[0;34m,\u001b[0m \u001b[0mwaveform_cal\u001b[0m\u001b[0;34m)\u001b[0m\u001b[0;34m\u001b[0m\u001b[0;34m\u001b[0m\u001b[0m\n\u001b[0m\u001b[1;32m     77\u001b[0m \u001b[0;34m\u001b[0m\u001b[0m\n\u001b[1;32m     78\u001b[0m \u001b[0;34m\u001b[0m\u001b[0m\n",
      "\u001b[0;32m~/nanograv_proj/enterprise_proj/pta_tutorial/waveform.py\u001b[0m in \u001b[0;36mcalculate_sp_sx\u001b[0;34m(toas, gwdist, mc, q, n0, e0, l0, gamma0, inc, psi, tref, Fp, Fx, evol, waveform_cal)\u001b[0m\n",
      "\u001b[0;32m~/anaconda3/envs/enterprise/lib/python3.6/site-packages/numpy/core/fromnumeric.py\u001b[0m in \u001b[0;36mamin\u001b[0;34m(a, axis, out, keepdims)\u001b[0m\n\u001b[1;32m   2418\u001b[0m \u001b[0;34m\u001b[0m\u001b[0m\n\u001b[1;32m   2419\u001b[0m     return _methods._amin(a, axis=axis,\n\u001b[0;32m-> 2420\u001b[0;31m                           out=out, **kwargs)\n\u001b[0m\u001b[1;32m   2421\u001b[0m \u001b[0;34m\u001b[0m\u001b[0m\n\u001b[1;32m   2422\u001b[0m \u001b[0;34m\u001b[0m\u001b[0m\n",
      "\u001b[0;32m~/anaconda3/envs/enterprise/lib/python3.6/site-packages/numpy/core/_methods.py\u001b[0m in \u001b[0;36m_amin\u001b[0;34m(a, axis, out, keepdims)\u001b[0m\n\u001b[1;32m     27\u001b[0m \u001b[0;34m\u001b[0m\u001b[0m\n\u001b[1;32m     28\u001b[0m \u001b[0;32mdef\u001b[0m \u001b[0m_amin\u001b[0m\u001b[0;34m(\u001b[0m\u001b[0ma\u001b[0m\u001b[0;34m,\u001b[0m \u001b[0maxis\u001b[0m\u001b[0;34m=\u001b[0m\u001b[0;32mNone\u001b[0m\u001b[0;34m,\u001b[0m \u001b[0mout\u001b[0m\u001b[0;34m=\u001b[0m\u001b[0;32mNone\u001b[0m\u001b[0;34m,\u001b[0m \u001b[0mkeepdims\u001b[0m\u001b[0;34m=\u001b[0m\u001b[0;32mFalse\u001b[0m\u001b[0;34m)\u001b[0m\u001b[0;34m:\u001b[0m\u001b[0;34m\u001b[0m\u001b[0;34m\u001b[0m\u001b[0m\n\u001b[0;32m---> 29\u001b[0;31m     \u001b[0;32mreturn\u001b[0m \u001b[0mumr_minimum\u001b[0m\u001b[0;34m(\u001b[0m\u001b[0ma\u001b[0m\u001b[0;34m,\u001b[0m \u001b[0maxis\u001b[0m\u001b[0;34m,\u001b[0m \u001b[0;32mNone\u001b[0m\u001b[0;34m,\u001b[0m \u001b[0mout\u001b[0m\u001b[0;34m,\u001b[0m \u001b[0mkeepdims\u001b[0m\u001b[0;34m)\u001b[0m\u001b[0;34m\u001b[0m\u001b[0;34m\u001b[0m\u001b[0m\n\u001b[0m\u001b[1;32m     30\u001b[0m \u001b[0;34m\u001b[0m\u001b[0m\n\u001b[1;32m     31\u001b[0m \u001b[0;32mdef\u001b[0m \u001b[0m_sum\u001b[0m\u001b[0;34m(\u001b[0m\u001b[0ma\u001b[0m\u001b[0;34m,\u001b[0m \u001b[0maxis\u001b[0m\u001b[0;34m=\u001b[0m\u001b[0;32mNone\u001b[0m\u001b[0;34m,\u001b[0m \u001b[0mdtype\u001b[0m\u001b[0;34m=\u001b[0m\u001b[0;32mNone\u001b[0m\u001b[0;34m,\u001b[0m \u001b[0mout\u001b[0m\u001b[0;34m=\u001b[0m\u001b[0;32mNone\u001b[0m\u001b[0;34m,\u001b[0m \u001b[0mkeepdims\u001b[0m\u001b[0;34m=\u001b[0m\u001b[0;32mFalse\u001b[0m\u001b[0;34m)\u001b[0m\u001b[0;34m:\u001b[0m\u001b[0;34m\u001b[0m\u001b[0;34m\u001b[0m\u001b[0m\n",
      "\u001b[0;31mKeyboardInterrupt\u001b[0m: "
     ]
    }
   ],
   "source": [
    "sampler.sample(xecc, N, SCAMweight=30, AMweight=15, DEweight=50)"
   ]
  },
  {
   "cell_type": "code",
   "execution_count": null,
   "metadata": {},
   "outputs": [],
   "source": []
  }
 ],
 "metadata": {
  "kernelspec": {
   "display_name": "Python 3",
   "language": "python",
   "name": "python3"
  },
  "language_info": {
   "codemirror_mode": {
    "name": "ipython",
    "version": 3
   },
   "file_extension": ".py",
   "mimetype": "text/x-python",
   "name": "python",
   "nbconvert_exporter": "python",
   "pygments_lexer": "ipython3",
   "version": "3.8.5"
  }
 },
 "nbformat": 4,
 "nbformat_minor": 4
}
